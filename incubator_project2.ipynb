{
 "cells": [
  {
   "cell_type": "code",
   "execution_count": 158,
   "metadata": {},
   "outputs": [],
   "source": [
    "import pandas as pd\n",
    "import numpy as np\n",
    "import matplotlib.pyplot as plt\n",
    "import seaborn as sns\n",
    "\n",
    "from sklearn.model_selection import train_test_split\n",
    "from sklearn import preprocessing\n",
    "from sklearn.preprocessing import minmax_scale\n",
    "from sklearn.linear_model import LogisticRegression\n",
    "from sklearn.ensemble import RandomForestClassifier\n",
    "from sklearn.ensemble import ExtraTreesClassifier\n",
    "from sklearn.model_selection import GridSearchCV\n",
    "\n",
    "from sklearn.svm import SVC, LinearSVC\n",
    "from sklearn.neighbors import KNeighborsClassifier\n",
    "from sklearn.naive_bayes import GaussianNB\n",
    "from sklearn.linear_model import Perceptron\n",
    "from sklearn.linear_model import SGDClassifier\n",
    "from sklearn.tree import DecisionTreeClassifier\n",
    "import xgboost as xgb\n",
    "from xgboost.sklearn import XGBClassifier\n",
    "\n",
    "from sklearn.metrics import roc_auc_score, roc_curve, auc, log_loss, confusion_matrix\n",
    "from sklearn.externals import joblib\n",
    "import warnings\n",
    "import itertools\n",
    "import timeit\n",
    "\n",
    "import pydotplus\n",
    "from IPython.display import Image\n",
    "from IPython.core.display import HTML \n",
    "from sklearn.externals.six import StringIO\n",
    "from sklearn import tree\n",
    "\n",
    "warnings.filterwarnings('ignore')\n",
    "warnings.filterwarnings(\"ignore\", category=DeprecationWarning) "
   ]
  },
  {
   "cell_type": "code",
   "execution_count": 5,
   "metadata": {
    "collapsed": true
   },
   "outputs": [],
   "source": [
    "#read raw data\n",
    "restaurant = pd.read_csv(\"DOHMH_New_York_City_Restaurant_Inspection_Results.csv\", dtype = {'ZIPCODE':str, 'PHONE':str, 'CAMIS':str})\n",
    "\n",
    "restaurant_new = restaurant.drop(['ACTION', 'VIOLATION CODE', 'VIOLATION DESCRIPTION', 'CRITICAL FLAG', 'INSPECTION TYPE'], axis=1)\n",
    "\n",
    "restaurant_new['t'] = restaurant_new['SCORE'].map(lambda x: 1 if x > 13 else 0)\n",
    "\n",
    "data_mean = restaurant_new.groupby(['CAMIS', 'BORO', 'ZIPCODE', 'CUISINE DESCRIPTION'], as_index = False)[['t']].mean()"
   ]
  },
  {
   "cell_type": "code",
   "execution_count": 6,
   "metadata": {},
   "outputs": [
    {
     "data": {
      "text/plain": [
       "(26663, 5)"
      ]
     },
     "execution_count": 6,
     "metadata": {},
     "output_type": "execute_result"
    }
   ],
   "source": [
    "data_mean.shape"
   ]
  },
  {
   "cell_type": "code",
   "execution_count": 8,
   "metadata": {
    "collapsed": true
   },
   "outputs": [],
   "source": [
    "data_mean['target'] = data_mean['t'].map(lambda x: 1 if x >= 0.5 else 0)\n",
    "\n",
    "data_mean_new = data_mean.drop(['t'], axis=1)"
   ]
  },
  {
   "cell_type": "code",
   "execution_count": 9,
   "metadata": {},
   "outputs": [
    {
     "data": {
      "text/html": [
       "<div>\n",
       "<style>\n",
       "    .dataframe thead tr:only-child th {\n",
       "        text-align: right;\n",
       "    }\n",
       "\n",
       "    .dataframe thead th {\n",
       "        text-align: left;\n",
       "    }\n",
       "\n",
       "    .dataframe tbody tr th {\n",
       "        vertical-align: top;\n",
       "    }\n",
       "</style>\n",
       "<table border=\"1\" class=\"dataframe\">\n",
       "  <thead>\n",
       "    <tr style=\"text-align: right;\">\n",
       "      <th></th>\n",
       "      <th>CAMIS</th>\n",
       "      <th>BORO</th>\n",
       "      <th>ZIPCODE</th>\n",
       "      <th>CUISINE DESCRIPTION</th>\n",
       "    </tr>\n",
       "    <tr>\n",
       "      <th>target</th>\n",
       "      <th></th>\n",
       "      <th></th>\n",
       "      <th></th>\n",
       "      <th></th>\n",
       "    </tr>\n",
       "  </thead>\n",
       "  <tbody>\n",
       "    <tr>\n",
       "      <th>0</th>\n",
       "      <td>16832</td>\n",
       "      <td>16832</td>\n",
       "      <td>16832</td>\n",
       "      <td>16832</td>\n",
       "    </tr>\n",
       "    <tr>\n",
       "      <th>1</th>\n",
       "      <td>9831</td>\n",
       "      <td>9831</td>\n",
       "      <td>9831</td>\n",
       "      <td>9831</td>\n",
       "    </tr>\n",
       "  </tbody>\n",
       "</table>\n",
       "</div>"
      ],
      "text/plain": [
       "        CAMIS   BORO  ZIPCODE  CUISINE DESCRIPTION\n",
       "target                                            \n",
       "0       16832  16832    16832                16832\n",
       "1        9831   9831     9831                 9831"
      ]
     },
     "execution_count": 9,
     "metadata": {},
     "output_type": "execute_result"
    }
   ],
   "source": [
    "data_mean_new.groupby(['target']).count()"
   ]
  },
  {
   "cell_type": "code",
   "execution_count": 12,
   "metadata": {
    "collapsed": true
   },
   "outputs": [],
   "source": [
    "data_lat_lng = pd.read_csv(\"data_lat_lng.csv\", dtype = {'ZIPCODE':str, 'PHONE':str, 'CAMIS':str})\n",
    "\n",
    "data_l_l = data_lat_lng[['CAMIS', 'latitude', 'longitude']]\n",
    "\n",
    "data_v1 = pd.merge(data_mean_new, data_l_l, how='left', on=['CAMIS'])"
   ]
  },
  {
   "cell_type": "code",
   "execution_count": 13,
   "metadata": {},
   "outputs": [
    {
     "data": {
      "text/plain": [
       "(26663, 7)"
      ]
     },
     "execution_count": 13,
     "metadata": {},
     "output_type": "execute_result"
    }
   ],
   "source": [
    "data_v1.shape"
   ]
  },
  {
   "cell_type": "code",
   "execution_count": 14,
   "metadata": {},
   "outputs": [
    {
     "data": {
      "text/plain": [
       "CAMIS                     0\n",
       "BORO                      0\n",
       "ZIPCODE                   0\n",
       "CUISINE DESCRIPTION       0\n",
       "target                    0\n",
       "latitude               2614\n",
       "longitude              2614\n",
       "dtype: int64"
      ]
     },
     "execution_count": 14,
     "metadata": {},
     "output_type": "execute_result"
    }
   ],
   "source": [
    "data_v1.isnull().sum()"
   ]
  },
  {
   "cell_type": "code",
   "execution_count": 15,
   "metadata": {},
   "outputs": [
    {
     "data": {
      "text/html": [
       "<div>\n",
       "<style>\n",
       "    .dataframe thead tr:only-child th {\n",
       "        text-align: right;\n",
       "    }\n",
       "\n",
       "    .dataframe thead th {\n",
       "        text-align: left;\n",
       "    }\n",
       "\n",
       "    .dataframe tbody tr th {\n",
       "        vertical-align: top;\n",
       "    }\n",
       "</style>\n",
       "<table border=\"1\" class=\"dataframe\">\n",
       "  <thead>\n",
       "    <tr style=\"text-align: right;\">\n",
       "      <th></th>\n",
       "      <th>target</th>\n",
       "      <th>latitude</th>\n",
       "      <th>longitude</th>\n",
       "    </tr>\n",
       "  </thead>\n",
       "  <tbody>\n",
       "    <tr>\n",
       "      <th>0.01</th>\n",
       "      <td>0.0</td>\n",
       "      <td>40.564785</td>\n",
       "      <td>-74.164215</td>\n",
       "    </tr>\n",
       "    <tr>\n",
       "      <th>0.50</th>\n",
       "      <td>0.0</td>\n",
       "      <td>40.735066</td>\n",
       "      <td>-73.960689</td>\n",
       "    </tr>\n",
       "    <tr>\n",
       "      <th>0.99</th>\n",
       "      <td>1.0</td>\n",
       "      <td>40.882805</td>\n",
       "      <td>-73.743892</td>\n",
       "    </tr>\n",
       "  </tbody>\n",
       "</table>\n",
       "</div>"
      ],
      "text/plain": [
       "      target   latitude  longitude\n",
       "0.01     0.0  40.564785 -74.164215\n",
       "0.50     0.0  40.735066 -73.960689\n",
       "0.99     1.0  40.882805 -73.743892"
      ]
     },
     "execution_count": 15,
     "metadata": {},
     "output_type": "execute_result"
    }
   ],
   "source": [
    "data_v1.quantile([.01, 0.5, 0.99])\n",
    "#Staten Island SW 40.495729, -74.247854, \n",
    "#Queens E 40.741905, -73.700941\n",
    "#Brox N 40.915321, -73.910402"
   ]
  },
  {
   "cell_type": "code",
   "execution_count": 16,
   "metadata": {},
   "outputs": [
    {
     "data": {
      "text/html": [
       "<div>\n",
       "<style>\n",
       "    .dataframe thead tr:only-child th {\n",
       "        text-align: right;\n",
       "    }\n",
       "\n",
       "    .dataframe thead th {\n",
       "        text-align: left;\n",
       "    }\n",
       "\n",
       "    .dataframe tbody tr th {\n",
       "        vertical-align: top;\n",
       "    }\n",
       "</style>\n",
       "<table border=\"1\" class=\"dataframe\">\n",
       "  <thead>\n",
       "    <tr style=\"text-align: right;\">\n",
       "      <th></th>\n",
       "      <th>CAMIS</th>\n",
       "      <th>BORO</th>\n",
       "      <th>ZIPCODE</th>\n",
       "      <th>CUISINE DESCRIPTION</th>\n",
       "      <th>target</th>\n",
       "      <th>latitude</th>\n",
       "      <th>longitude</th>\n",
       "    </tr>\n",
       "  </thead>\n",
       "  <tbody>\n",
       "    <tr>\n",
       "      <th>1006</th>\n",
       "      <td>40401834</td>\n",
       "      <td>MANHATTAN</td>\n",
       "      <td>10023</td>\n",
       "      <td>American</td>\n",
       "      <td>1</td>\n",
       "      <td>37.797607</td>\n",
       "      <td>-122.406560</td>\n",
       "    </tr>\n",
       "    <tr>\n",
       "      <th>1054</th>\n",
       "      <td>40402699</td>\n",
       "      <td>BRONX</td>\n",
       "      <td>10471</td>\n",
       "      <td>American</td>\n",
       "      <td>1</td>\n",
       "      <td>38.154145</td>\n",
       "      <td>-79.144061</td>\n",
       "    </tr>\n",
       "    <tr>\n",
       "      <th>2327</th>\n",
       "      <td>40752293</td>\n",
       "      <td>BROOKLYN</td>\n",
       "      <td>11206</td>\n",
       "      <td>Spanish</td>\n",
       "      <td>1</td>\n",
       "      <td>34.718996</td>\n",
       "      <td>-76.667857</td>\n",
       "    </tr>\n",
       "    <tr>\n",
       "      <th>6963</th>\n",
       "      <td>41391832</td>\n",
       "      <td>BRONX</td>\n",
       "      <td>10451</td>\n",
       "      <td>American</td>\n",
       "      <td>0</td>\n",
       "      <td>38.533657</td>\n",
       "      <td>-89.983662</td>\n",
       "    </tr>\n",
       "    <tr>\n",
       "      <th>6964</th>\n",
       "      <td>41391840</td>\n",
       "      <td>BRONX</td>\n",
       "      <td>10451</td>\n",
       "      <td>Steak</td>\n",
       "      <td>0</td>\n",
       "      <td>38.533657</td>\n",
       "      <td>-89.983662</td>\n",
       "    </tr>\n",
       "    <tr>\n",
       "      <th>7006</th>\n",
       "      <td>41395342</td>\n",
       "      <td>QUEENS</td>\n",
       "      <td>11368</td>\n",
       "      <td>Ice Cream, Gelato, Yogurt, Ices</td>\n",
       "      <td>0</td>\n",
       "      <td>13.769571</td>\n",
       "      <td>100.627219</td>\n",
       "    </tr>\n",
       "    <tr>\n",
       "      <th>7007</th>\n",
       "      <td>41395345</td>\n",
       "      <td>QUEENS</td>\n",
       "      <td>11368</td>\n",
       "      <td>American</td>\n",
       "      <td>0</td>\n",
       "      <td>13.769571</td>\n",
       "      <td>100.627219</td>\n",
       "    </tr>\n",
       "    <tr>\n",
       "      <th>9594</th>\n",
       "      <td>41583720</td>\n",
       "      <td>MANHATTAN</td>\n",
       "      <td>10029</td>\n",
       "      <td>Vegetarian</td>\n",
       "      <td>1</td>\n",
       "      <td>39.629911</td>\n",
       "      <td>-90.456291</td>\n",
       "    </tr>\n",
       "    <tr>\n",
       "      <th>19144</th>\n",
       "      <td>50044992</td>\n",
       "      <td>MANHATTAN</td>\n",
       "      <td>10001</td>\n",
       "      <td>Donuts</td>\n",
       "      <td>0</td>\n",
       "      <td>18.580786</td>\n",
       "      <td>98.999492</td>\n",
       "    </tr>\n",
       "  </tbody>\n",
       "</table>\n",
       "</div>"
      ],
      "text/plain": [
       "          CAMIS       BORO ZIPCODE              CUISINE DESCRIPTION  target  \\\n",
       "1006   40401834  MANHATTAN   10023                         American       1   \n",
       "1054   40402699      BRONX   10471                         American       1   \n",
       "2327   40752293   BROOKLYN   11206                          Spanish       1   \n",
       "6963   41391832      BRONX   10451                         American       0   \n",
       "6964   41391840      BRONX   10451                            Steak       0   \n",
       "7006   41395342     QUEENS   11368  Ice Cream, Gelato, Yogurt, Ices       0   \n",
       "7007   41395345     QUEENS   11368                         American       0   \n",
       "9594   41583720  MANHATTAN   10029                       Vegetarian       1   \n",
       "19144  50044992  MANHATTAN   10001                           Donuts       0   \n",
       "\n",
       "        latitude   longitude  \n",
       "1006   37.797607 -122.406560  \n",
       "1054   38.154145  -79.144061  \n",
       "2327   34.718996  -76.667857  \n",
       "6963   38.533657  -89.983662  \n",
       "6964   38.533657  -89.983662  \n",
       "7006   13.769571  100.627219  \n",
       "7007   13.769571  100.627219  \n",
       "9594   39.629911  -90.456291  \n",
       "19144  18.580786   98.999492  "
      ]
     },
     "execution_count": 16,
     "metadata": {},
     "output_type": "execute_result"
    }
   ],
   "source": [
    "data_v1.loc[data_v1['latitude'] <40.495729]"
   ]
  },
  {
   "cell_type": "code",
   "execution_count": 17,
   "metadata": {
    "collapsed": true
   },
   "outputs": [],
   "source": [
    "data_v1.loc[data_v1['latitude'] <40.495729, 'latitude'] = None\n",
    "data_v1.loc[data_v1['latitude'] <40.495729, 'longitude'] = None"
   ]
  },
  {
   "cell_type": "code",
   "execution_count": 18,
   "metadata": {},
   "outputs": [
    {
     "data": {
      "text/html": [
       "<div>\n",
       "<style>\n",
       "    .dataframe thead tr:only-child th {\n",
       "        text-align: right;\n",
       "    }\n",
       "\n",
       "    .dataframe thead th {\n",
       "        text-align: left;\n",
       "    }\n",
       "\n",
       "    .dataframe tbody tr th {\n",
       "        vertical-align: top;\n",
       "    }\n",
       "</style>\n",
       "<table border=\"1\" class=\"dataframe\">\n",
       "  <thead>\n",
       "    <tr style=\"text-align: right;\">\n",
       "      <th></th>\n",
       "      <th>CAMIS</th>\n",
       "      <th>BORO</th>\n",
       "      <th>ZIPCODE</th>\n",
       "      <th>CUISINE DESCRIPTION</th>\n",
       "      <th>target</th>\n",
       "      <th>latitude</th>\n",
       "      <th>longitude</th>\n",
       "    </tr>\n",
       "  </thead>\n",
       "  <tbody>\n",
       "  </tbody>\n",
       "</table>\n",
       "</div>"
      ],
      "text/plain": [
       "Empty DataFrame\n",
       "Columns: [CAMIS, BORO, ZIPCODE, CUISINE DESCRIPTION, target, latitude, longitude]\n",
       "Index: []"
      ]
     },
     "execution_count": 18,
     "metadata": {},
     "output_type": "execute_result"
    }
   ],
   "source": [
    "data_v1.loc[data_v1['latitude'] >40.915321]"
   ]
  },
  {
   "cell_type": "code",
   "execution_count": 19,
   "metadata": {},
   "outputs": [
    {
     "data": {
      "text/html": [
       "<div>\n",
       "<style>\n",
       "    .dataframe thead tr:only-child th {\n",
       "        text-align: right;\n",
       "    }\n",
       "\n",
       "    .dataframe thead th {\n",
       "        text-align: left;\n",
       "    }\n",
       "\n",
       "    .dataframe tbody tr th {\n",
       "        vertical-align: top;\n",
       "    }\n",
       "</style>\n",
       "<table border=\"1\" class=\"dataframe\">\n",
       "  <thead>\n",
       "    <tr style=\"text-align: right;\">\n",
       "      <th></th>\n",
       "      <th>CAMIS</th>\n",
       "      <th>BORO</th>\n",
       "      <th>ZIPCODE</th>\n",
       "      <th>CUISINE DESCRIPTION</th>\n",
       "      <th>target</th>\n",
       "      <th>latitude</th>\n",
       "      <th>longitude</th>\n",
       "    </tr>\n",
       "  </thead>\n",
       "  <tbody>\n",
       "    <tr>\n",
       "      <th>1006</th>\n",
       "      <td>40401834</td>\n",
       "      <td>MANHATTAN</td>\n",
       "      <td>10023</td>\n",
       "      <td>American</td>\n",
       "      <td>1</td>\n",
       "      <td>NaN</td>\n",
       "      <td>-122.406560</td>\n",
       "    </tr>\n",
       "    <tr>\n",
       "      <th>1054</th>\n",
       "      <td>40402699</td>\n",
       "      <td>BRONX</td>\n",
       "      <td>10471</td>\n",
       "      <td>American</td>\n",
       "      <td>1</td>\n",
       "      <td>NaN</td>\n",
       "      <td>-79.144061</td>\n",
       "    </tr>\n",
       "    <tr>\n",
       "      <th>2327</th>\n",
       "      <td>40752293</td>\n",
       "      <td>BROOKLYN</td>\n",
       "      <td>11206</td>\n",
       "      <td>Spanish</td>\n",
       "      <td>1</td>\n",
       "      <td>NaN</td>\n",
       "      <td>-76.667857</td>\n",
       "    </tr>\n",
       "    <tr>\n",
       "      <th>6963</th>\n",
       "      <td>41391832</td>\n",
       "      <td>BRONX</td>\n",
       "      <td>10451</td>\n",
       "      <td>American</td>\n",
       "      <td>0</td>\n",
       "      <td>NaN</td>\n",
       "      <td>-89.983662</td>\n",
       "    </tr>\n",
       "    <tr>\n",
       "      <th>6964</th>\n",
       "      <td>41391840</td>\n",
       "      <td>BRONX</td>\n",
       "      <td>10451</td>\n",
       "      <td>Steak</td>\n",
       "      <td>0</td>\n",
       "      <td>NaN</td>\n",
       "      <td>-89.983662</td>\n",
       "    </tr>\n",
       "    <tr>\n",
       "      <th>9594</th>\n",
       "      <td>41583720</td>\n",
       "      <td>MANHATTAN</td>\n",
       "      <td>10029</td>\n",
       "      <td>Vegetarian</td>\n",
       "      <td>1</td>\n",
       "      <td>NaN</td>\n",
       "      <td>-90.456291</td>\n",
       "    </tr>\n",
       "  </tbody>\n",
       "</table>\n",
       "</div>"
      ],
      "text/plain": [
       "         CAMIS       BORO ZIPCODE CUISINE DESCRIPTION  target  latitude  \\\n",
       "1006  40401834  MANHATTAN   10023            American       1       NaN   \n",
       "1054  40402699      BRONX   10471            American       1       NaN   \n",
       "2327  40752293   BROOKLYN   11206             Spanish       1       NaN   \n",
       "6963  41391832      BRONX   10451            American       0       NaN   \n",
       "6964  41391840      BRONX   10451               Steak       0       NaN   \n",
       "9594  41583720  MANHATTAN   10029          Vegetarian       1       NaN   \n",
       "\n",
       "       longitude  \n",
       "1006 -122.406560  \n",
       "1054  -79.144061  \n",
       "2327  -76.667857  \n",
       "6963  -89.983662  \n",
       "6964  -89.983662  \n",
       "9594  -90.456291  "
      ]
     },
     "execution_count": 19,
     "metadata": {},
     "output_type": "execute_result"
    }
   ],
   "source": [
    "data_v1.loc[data_v1['longitude'] <-74.3]"
   ]
  },
  {
   "cell_type": "code",
   "execution_count": 20,
   "metadata": {
    "collapsed": true
   },
   "outputs": [],
   "source": [
    "data_v1.loc[data_v1['longitude'] <-74.3, 'latitude'] = None\n",
    "data_v1.loc[data_v1['longitude'] <-74.3, 'longitude'] = None"
   ]
  },
  {
   "cell_type": "code",
   "execution_count": 21,
   "metadata": {},
   "outputs": [
    {
     "data": {
      "text/html": [
       "<div>\n",
       "<style>\n",
       "    .dataframe thead tr:only-child th {\n",
       "        text-align: right;\n",
       "    }\n",
       "\n",
       "    .dataframe thead th {\n",
       "        text-align: left;\n",
       "    }\n",
       "\n",
       "    .dataframe tbody tr th {\n",
       "        vertical-align: top;\n",
       "    }\n",
       "</style>\n",
       "<table border=\"1\" class=\"dataframe\">\n",
       "  <thead>\n",
       "    <tr style=\"text-align: right;\">\n",
       "      <th></th>\n",
       "      <th>CAMIS</th>\n",
       "      <th>BORO</th>\n",
       "      <th>ZIPCODE</th>\n",
       "      <th>CUISINE DESCRIPTION</th>\n",
       "      <th>target</th>\n",
       "      <th>latitude</th>\n",
       "      <th>longitude</th>\n",
       "    </tr>\n",
       "  </thead>\n",
       "  <tbody>\n",
       "    <tr>\n",
       "      <th>7006</th>\n",
       "      <td>41395342</td>\n",
       "      <td>QUEENS</td>\n",
       "      <td>11368</td>\n",
       "      <td>Ice Cream, Gelato, Yogurt, Ices</td>\n",
       "      <td>0</td>\n",
       "      <td>NaN</td>\n",
       "      <td>100.627219</td>\n",
       "    </tr>\n",
       "    <tr>\n",
       "      <th>7007</th>\n",
       "      <td>41395345</td>\n",
       "      <td>QUEENS</td>\n",
       "      <td>11368</td>\n",
       "      <td>American</td>\n",
       "      <td>0</td>\n",
       "      <td>NaN</td>\n",
       "      <td>100.627219</td>\n",
       "    </tr>\n",
       "    <tr>\n",
       "      <th>19144</th>\n",
       "      <td>50044992</td>\n",
       "      <td>MANHATTAN</td>\n",
       "      <td>10001</td>\n",
       "      <td>Donuts</td>\n",
       "      <td>0</td>\n",
       "      <td>NaN</td>\n",
       "      <td>98.999492</td>\n",
       "    </tr>\n",
       "  </tbody>\n",
       "</table>\n",
       "</div>"
      ],
      "text/plain": [
       "          CAMIS       BORO ZIPCODE              CUISINE DESCRIPTION  target  \\\n",
       "7006   41395342     QUEENS   11368  Ice Cream, Gelato, Yogurt, Ices       0   \n",
       "7007   41395345     QUEENS   11368                         American       0   \n",
       "19144  50044992  MANHATTAN   10001                           Donuts       0   \n",
       "\n",
       "       latitude   longitude  \n",
       "7006        NaN  100.627219  \n",
       "7007        NaN  100.627219  \n",
       "19144       NaN   98.999492  "
      ]
     },
     "execution_count": 21,
     "metadata": {},
     "output_type": "execute_result"
    }
   ],
   "source": [
    "data_v1.loc[data_v1['longitude'] >-73.7]"
   ]
  },
  {
   "cell_type": "code",
   "execution_count": 22,
   "metadata": {
    "collapsed": true
   },
   "outputs": [],
   "source": [
    "data_v1.loc[data_v1['longitude'] >-73.7, 'latitude'] = None\n",
    "data_v1.loc[data_v1['longitude'] >-73.7, 'longitude'] = None"
   ]
  },
  {
   "cell_type": "code",
   "execution_count": 25,
   "metadata": {
    "collapsed": true
   },
   "outputs": [],
   "source": [
    "fill_by_zip = data_v1.groupby(['ZIPCODE'])[['latitude', 'longitude']].mean()\n",
    "lat_zip = fill_by_zip['latitude'].to_dict()\n",
    "lon_zip = fill_by_zip['longitude'].to_dict()\n",
    "\n",
    "data_v1['latitude_fillna'] = data_v1[['latitude']]\n",
    "\n",
    "data_v1.loc[data_v1['latitude'].isnull(), 'latitude_fillna'] = data_v1.loc[data_v1['latitude'].isnull(), 'ZIPCODE'].map(lambda x: lat_zip[x])\n",
    "\n",
    "data_v1['longitude_fillna'] = data_v1[['longitude']]\n",
    "    \n",
    "data_v1.loc[data_v1['longitude'].isnull(), 'longitude_fillna'] = data_v1.loc[data_v1['longitude'].isnull(), 'ZIPCODE'].map(lambda x: lon_zip[x])"
   ]
  },
  {
   "cell_type": "code",
   "execution_count": 26,
   "metadata": {},
   "outputs": [
    {
     "data": {
      "text/plain": [
       "CAMIS                     0\n",
       "BORO                      0\n",
       "ZIPCODE                   0\n",
       "CUISINE DESCRIPTION       0\n",
       "target                    0\n",
       "latitude               2623\n",
       "longitude              2623\n",
       "latitude_fillna           3\n",
       "longitude_fillna          3\n",
       "dtype: int64"
      ]
     },
     "execution_count": 26,
     "metadata": {},
     "output_type": "execute_result"
    }
   ],
   "source": [
    "data_v1.isnull().sum()"
   ]
  },
  {
   "cell_type": "code",
   "execution_count": 27,
   "metadata": {},
   "outputs": [
    {
     "data": {
      "text/html": [
       "<div>\n",
       "<style>\n",
       "    .dataframe thead tr:only-child th {\n",
       "        text-align: right;\n",
       "    }\n",
       "\n",
       "    .dataframe thead th {\n",
       "        text-align: left;\n",
       "    }\n",
       "\n",
       "    .dataframe tbody tr th {\n",
       "        vertical-align: top;\n",
       "    }\n",
       "</style>\n",
       "<table border=\"1\" class=\"dataframe\">\n",
       "  <thead>\n",
       "    <tr style=\"text-align: right;\">\n",
       "      <th></th>\n",
       "      <th>CAMIS</th>\n",
       "      <th>BORO</th>\n",
       "      <th>ZIPCODE</th>\n",
       "      <th>CUISINE DESCRIPTION</th>\n",
       "      <th>target</th>\n",
       "      <th>latitude</th>\n",
       "      <th>longitude</th>\n",
       "      <th>latitude_fillna</th>\n",
       "      <th>longitude_fillna</th>\n",
       "    </tr>\n",
       "  </thead>\n",
       "  <tbody>\n",
       "    <tr>\n",
       "      <th>3934</th>\n",
       "      <td>41069646</td>\n",
       "      <td>BRONX</td>\n",
       "      <td>10510</td>\n",
       "      <td>Caribbean</td>\n",
       "      <td>1</td>\n",
       "      <td>NaN</td>\n",
       "      <td>NaN</td>\n",
       "      <td>NaN</td>\n",
       "      <td>NaN</td>\n",
       "    </tr>\n",
       "    <tr>\n",
       "      <th>16031</th>\n",
       "      <td>50016753</td>\n",
       "      <td>QUEENS</td>\n",
       "      <td>11352</td>\n",
       "      <td>Chinese</td>\n",
       "      <td>1</td>\n",
       "      <td>NaN</td>\n",
       "      <td>NaN</td>\n",
       "      <td>NaN</td>\n",
       "      <td>NaN</td>\n",
       "    </tr>\n",
       "    <tr>\n",
       "      <th>22574</th>\n",
       "      <td>50059227</td>\n",
       "      <td>QUEENS</td>\n",
       "      <td>11003</td>\n",
       "      <td>Other</td>\n",
       "      <td>0</td>\n",
       "      <td>NaN</td>\n",
       "      <td>NaN</td>\n",
       "      <td>NaN</td>\n",
       "      <td>NaN</td>\n",
       "    </tr>\n",
       "  </tbody>\n",
       "</table>\n",
       "</div>"
      ],
      "text/plain": [
       "          CAMIS    BORO ZIPCODE CUISINE DESCRIPTION  target  latitude  \\\n",
       "3934   41069646   BRONX   10510           Caribbean       1       NaN   \n",
       "16031  50016753  QUEENS   11352             Chinese       1       NaN   \n",
       "22574  50059227  QUEENS   11003               Other       0       NaN   \n",
       "\n",
       "       longitude  latitude_fillna  longitude_fillna  \n",
       "3934         NaN              NaN               NaN  \n",
       "16031        NaN              NaN               NaN  \n",
       "22574        NaN              NaN               NaN  "
      ]
     },
     "execution_count": 27,
     "metadata": {},
     "output_type": "execute_result"
    }
   ],
   "source": [
    "data_v1.loc[data_v1['longitude_fillna'].isnull()]"
   ]
  },
  {
   "cell_type": "code",
   "execution_count": 29,
   "metadata": {
    "collapsed": true
   },
   "outputs": [],
   "source": [
    "fill_by_boro = data_v1.groupby(['BORO'])[['latitude', 'longitude']].mean()\n",
    "lat_boro = fill_by_boro['latitude'].to_dict()\n",
    "lon_boro = fill_by_boro['longitude'].to_dict()\n",
    "\n",
    "data_v1.loc[data_v1['latitude_fillna'].isnull(), 'latitude_fillna'] = data_v1.loc[data_v1['latitude_fillna'].isnull(), 'BORO'].map(lambda x: lat_boro[x])\n",
    "\n",
    "data_v1.loc[data_v1['longitude_fillna'].isnull(), 'longitude_fillna'] = data_v1.loc[data_v1['longitude_fillna'].isnull(), 'BORO'].map(lambda x: lon_boro[x])"
   ]
  },
  {
   "cell_type": "code",
   "execution_count": 30,
   "metadata": {},
   "outputs": [
    {
     "data": {
      "text/plain": [
       "CAMIS                     0\n",
       "BORO                      0\n",
       "ZIPCODE                   0\n",
       "CUISINE DESCRIPTION       0\n",
       "target                    0\n",
       "latitude               2623\n",
       "longitude              2623\n",
       "latitude_fillna           0\n",
       "longitude_fillna          0\n",
       "dtype: int64"
      ]
     },
     "execution_count": 30,
     "metadata": {},
     "output_type": "execute_result"
    }
   ],
   "source": [
    "data_v1.isnull().sum()"
   ]
  },
  {
   "cell_type": "code",
   "execution_count": 33,
   "metadata": {
    "collapsed": true
   },
   "outputs": [],
   "source": [
    "data_v1['lat_scal'] = data_v1['latitude_fillna']\n",
    "\n",
    "data_v1['lon_scal'] = data_v1['longitude_fillna']\n",
    "\n",
    "data_v1[['lat_scal', 'lon_scal']] = minmax_scale(data_v1[['latitude_fillna', 'longitude_fillna']])"
   ]
  },
  {
   "cell_type": "code",
   "execution_count": 165,
   "metadata": {},
   "outputs": [
    {
     "data": {
      "text/html": [
       "<div>\n",
       "<style>\n",
       "    .dataframe thead tr:only-child th {\n",
       "        text-align: right;\n",
       "    }\n",
       "\n",
       "    .dataframe thead th {\n",
       "        text-align: left;\n",
       "    }\n",
       "\n",
       "    .dataframe tbody tr th {\n",
       "        vertical-align: top;\n",
       "    }\n",
       "</style>\n",
       "<table border=\"1\" class=\"dataframe\">\n",
       "  <thead>\n",
       "    <tr style=\"text-align: right;\">\n",
       "      <th></th>\n",
       "      <th>lat_scal</th>\n",
       "      <th>lon_scal</th>\n",
       "    </tr>\n",
       "  </thead>\n",
       "  <tbody>\n",
       "    <tr>\n",
       "      <th>count</th>\n",
       "      <td>26663.000000</td>\n",
       "      <td>26663.000000</td>\n",
       "    </tr>\n",
       "    <tr>\n",
       "      <th>mean</th>\n",
       "      <td>0.546790</td>\n",
       "      <td>0.559439</td>\n",
       "    </tr>\n",
       "    <tr>\n",
       "      <th>std</th>\n",
       "      <td>0.167860</td>\n",
       "      <td>0.138336</td>\n",
       "    </tr>\n",
       "    <tr>\n",
       "      <th>min</th>\n",
       "      <td>0.000000</td>\n",
       "      <td>0.000000</td>\n",
       "    </tr>\n",
       "    <tr>\n",
       "      <th>25%</th>\n",
       "      <td>0.450015</td>\n",
       "      <td>0.475755</td>\n",
       "    </tr>\n",
       "    <tr>\n",
       "      <th>50%</th>\n",
       "      <td>0.560861</td>\n",
       "      <td>0.528453</td>\n",
       "    </tr>\n",
       "    <tr>\n",
       "      <th>75%</th>\n",
       "      <td>0.629664</td>\n",
       "      <td>0.632700</td>\n",
       "    </tr>\n",
       "    <tr>\n",
       "      <th>max</th>\n",
       "      <td>1.000000</td>\n",
       "      <td>1.000000</td>\n",
       "    </tr>\n",
       "  </tbody>\n",
       "</table>\n",
       "</div>"
      ],
      "text/plain": [
       "           lat_scal      lon_scal\n",
       "count  26663.000000  26663.000000\n",
       "mean       0.546790      0.559439\n",
       "std        0.167860      0.138336\n",
       "min        0.000000      0.000000\n",
       "25%        0.450015      0.475755\n",
       "50%        0.560861      0.528453\n",
       "75%        0.629664      0.632700\n",
       "max        1.000000      1.000000"
      ]
     },
     "execution_count": 165,
     "metadata": {},
     "output_type": "execute_result"
    }
   ],
   "source": [
    "data_v1[['lat_scal', 'lon_scal']].describe()"
   ]
  },
  {
   "cell_type": "code",
   "execution_count": 36,
   "metadata": {},
   "outputs": [
    {
     "data": {
      "image/png": "[encoded data removed]",
      "text/plain": [
       "<matplotlib.figure.Figure at 0x1146b9f7080>"
      ]
     },
     "metadata": {},
     "output_type": "display_data"
    }
   ],
   "source": [
    "#generate binary class label:either A(0) or not(1)\n",
    "y_tables = data_v1['target'].value_counts()\n",
    "y_pos = np.arange(len(y_tables.values))\n",
    "plt.bar(y_pos, y_tables.values, align='center', alpha=0.5)\n",
    "plt.xticks(y_pos, list( y_tables.index))\n",
    "plt.ylabel('Frequency')\n",
    "plt.title('Target')\n",
    "plt.show()"
   ]
  },
  {
   "cell_type": "code",
   "execution_count": 37,
   "metadata": {
    "collapsed": true
   },
   "outputs": [],
   "source": [
    "zipcode = pd.get_dummies(data_v1['ZIPCODE'], drop_first = True)\n",
    "\n",
    "cusine = pd.get_dummies(data_v1['CUISINE DESCRIPTION'], drop_first = True)\n",
    "\n",
    "model_data = pd.concat([data_v1['target'], data_v1['lat_scal'], data_v1['lon_scal'], cusine, zipcode], axis = 1)\n",
    "\n",
    "\n",
    "#partition data 70% for modeling, 30% for holdout\n",
    "Xtrain, Xhold, ytrain, yhold = train_test_split(model_data.drop(['target'], axis = 1), model_data['target'], test_size = 0.3, random_state = 42)"
   ]
  },
  {
   "cell_type": "code",
   "execution_count": 163,
   "metadata": {},
   "outputs": [
    {
     "data": {
      "text/html": [
       "<div>\n",
       "<style>\n",
       "    .dataframe thead tr:only-child th {\n",
       "        text-align: right;\n",
       "    }\n",
       "\n",
       "    .dataframe thead th {\n",
       "        text-align: left;\n",
       "    }\n",
       "\n",
       "    .dataframe tbody tr th {\n",
       "        vertical-align: top;\n",
       "    }\n",
       "</style>\n",
       "<table border=\"1\" class=\"dataframe\">\n",
       "  <thead>\n",
       "    <tr style=\"text-align: right;\">\n",
       "      <th></th>\n",
       "      <th>target</th>\n",
       "      <th>lat_scal</th>\n",
       "      <th>lon_scal</th>\n",
       "      <th>African</th>\n",
       "      <th>American</th>\n",
       "      <th>Armenian</th>\n",
       "      <th>Asian</th>\n",
       "      <th>Australian</th>\n",
       "      <th>Bagels/Pretzels</th>\n",
       "      <th>Bakery</th>\n",
       "      <th>...</th>\n",
       "      <th>11433</th>\n",
       "      <th>11434</th>\n",
       "      <th>11435</th>\n",
       "      <th>11436</th>\n",
       "      <th>11451</th>\n",
       "      <th>11691</th>\n",
       "      <th>11692</th>\n",
       "      <th>11693</th>\n",
       "      <th>11694</th>\n",
       "      <th>11697</th>\n",
       "    </tr>\n",
       "  </thead>\n",
       "  <tbody>\n",
       "    <tr>\n",
       "      <th>count</th>\n",
       "      <td>26663.000000</td>\n",
       "      <td>26663.000000</td>\n",
       "      <td>26663.000000</td>\n",
       "      <td>26663.000000</td>\n",
       "      <td>26663.000000</td>\n",
       "      <td>26663.000000</td>\n",
       "      <td>26663.000000</td>\n",
       "      <td>26663.000000</td>\n",
       "      <td>26663.000000</td>\n",
       "      <td>26663.000000</td>\n",
       "      <td>...</td>\n",
       "      <td>26663.000000</td>\n",
       "      <td>26663.000000</td>\n",
       "      <td>26663.000000</td>\n",
       "      <td>26663.000000</td>\n",
       "      <td>26663.000000</td>\n",
       "      <td>26663.000000</td>\n",
       "      <td>26663.000000</td>\n",
       "      <td>26663.000000</td>\n",
       "      <td>26663.000000</td>\n",
       "      <td>26663.000000</td>\n",
       "    </tr>\n",
       "    <tr>\n",
       "      <th>mean</th>\n",
       "      <td>0.368713</td>\n",
       "      <td>0.546790</td>\n",
       "      <td>0.559439</td>\n",
       "      <td>0.002813</td>\n",
       "      <td>0.227431</td>\n",
       "      <td>0.001388</td>\n",
       "      <td>0.013914</td>\n",
       "      <td>0.000675</td>\n",
       "      <td>0.006676</td>\n",
       "      <td>0.027641</td>\n",
       "      <td>...</td>\n",
       "      <td>0.001163</td>\n",
       "      <td>0.003300</td>\n",
       "      <td>0.004013</td>\n",
       "      <td>0.000788</td>\n",
       "      <td>0.000038</td>\n",
       "      <td>0.001800</td>\n",
       "      <td>0.000338</td>\n",
       "      <td>0.001388</td>\n",
       "      <td>0.001463</td>\n",
       "      <td>0.000225</td>\n",
       "    </tr>\n",
       "    <tr>\n",
       "      <th>std</th>\n",
       "      <td>0.482465</td>\n",
       "      <td>0.167860</td>\n",
       "      <td>0.138336</td>\n",
       "      <td>0.052963</td>\n",
       "      <td>0.419181</td>\n",
       "      <td>0.037227</td>\n",
       "      <td>0.117138</td>\n",
       "      <td>0.025974</td>\n",
       "      <td>0.081435</td>\n",
       "      <td>0.163946</td>\n",
       "      <td>...</td>\n",
       "      <td>0.034079</td>\n",
       "      <td>0.057356</td>\n",
       "      <td>0.063223</td>\n",
       "      <td>0.028054</td>\n",
       "      <td>0.006124</td>\n",
       "      <td>0.042392</td>\n",
       "      <td>0.018370</td>\n",
       "      <td>0.037227</td>\n",
       "      <td>0.038218</td>\n",
       "      <td>0.015000</td>\n",
       "    </tr>\n",
       "    <tr>\n",
       "      <th>min</th>\n",
       "      <td>0.000000</td>\n",
       "      <td>0.000000</td>\n",
       "      <td>0.000000</td>\n",
       "      <td>0.000000</td>\n",
       "      <td>0.000000</td>\n",
       "      <td>0.000000</td>\n",
       "      <td>0.000000</td>\n",
       "      <td>0.000000</td>\n",
       "      <td>0.000000</td>\n",
       "      <td>0.000000</td>\n",
       "      <td>...</td>\n",
       "      <td>0.000000</td>\n",
       "      <td>0.000000</td>\n",
       "      <td>0.000000</td>\n",
       "      <td>0.000000</td>\n",
       "      <td>0.000000</td>\n",
       "      <td>0.000000</td>\n",
       "      <td>0.000000</td>\n",
       "      <td>0.000000</td>\n",
       "      <td>0.000000</td>\n",
       "      <td>0.000000</td>\n",
       "    </tr>\n",
       "    <tr>\n",
       "      <th>25%</th>\n",
       "      <td>0.000000</td>\n",
       "      <td>0.450015</td>\n",
       "      <td>0.475755</td>\n",
       "      <td>0.000000</td>\n",
       "      <td>0.000000</td>\n",
       "      <td>0.000000</td>\n",
       "      <td>0.000000</td>\n",
       "      <td>0.000000</td>\n",
       "      <td>0.000000</td>\n",
       "      <td>0.000000</td>\n",
       "      <td>...</td>\n",
       "      <td>0.000000</td>\n",
       "      <td>0.000000</td>\n",
       "      <td>0.000000</td>\n",
       "      <td>0.000000</td>\n",
       "      <td>0.000000</td>\n",
       "      <td>0.000000</td>\n",
       "      <td>0.000000</td>\n",
       "      <td>0.000000</td>\n",
       "      <td>0.000000</td>\n",
       "      <td>0.000000</td>\n",
       "    </tr>\n",
       "    <tr>\n",
       "      <th>50%</th>\n",
       "      <td>0.000000</td>\n",
       "      <td>0.560861</td>\n",
       "      <td>0.528453</td>\n",
       "      <td>0.000000</td>\n",
       "      <td>0.000000</td>\n",
       "      <td>0.000000</td>\n",
       "      <td>0.000000</td>\n",
       "      <td>0.000000</td>\n",
       "      <td>0.000000</td>\n",
       "      <td>0.000000</td>\n",
       "      <td>...</td>\n",
       "      <td>0.000000</td>\n",
       "      <td>0.000000</td>\n",
       "      <td>0.000000</td>\n",
       "      <td>0.000000</td>\n",
       "      <td>0.000000</td>\n",
       "      <td>0.000000</td>\n",
       "      <td>0.000000</td>\n",
       "      <td>0.000000</td>\n",
       "      <td>0.000000</td>\n",
       "      <td>0.000000</td>\n",
       "    </tr>\n",
       "    <tr>\n",
       "      <th>75%</th>\n",
       "      <td>1.000000</td>\n",
       "      <td>0.629664</td>\n",
       "      <td>0.632700</td>\n",
       "      <td>0.000000</td>\n",
       "      <td>0.000000</td>\n",
       "      <td>0.000000</td>\n",
       "      <td>0.000000</td>\n",
       "      <td>0.000000</td>\n",
       "      <td>0.000000</td>\n",
       "      <td>0.000000</td>\n",
       "      <td>...</td>\n",
       "      <td>0.000000</td>\n",
       "      <td>0.000000</td>\n",
       "      <td>0.000000</td>\n",
       "      <td>0.000000</td>\n",
       "      <td>0.000000</td>\n",
       "      <td>0.000000</td>\n",
       "      <td>0.000000</td>\n",
       "      <td>0.000000</td>\n",
       "      <td>0.000000</td>\n",
       "      <td>0.000000</td>\n",
       "    </tr>\n",
       "    <tr>\n",
       "      <th>max</th>\n",
       "      <td>1.000000</td>\n",
       "      <td>1.000000</td>\n",
       "      <td>1.000000</td>\n",
       "      <td>1.000000</td>\n",
       "      <td>1.000000</td>\n",
       "      <td>1.000000</td>\n",
       "      <td>1.000000</td>\n",
       "      <td>1.000000</td>\n",
       "      <td>1.000000</td>\n",
       "      <td>1.000000</td>\n",
       "      <td>...</td>\n",
       "      <td>1.000000</td>\n",
       "      <td>1.000000</td>\n",
       "      <td>1.000000</td>\n",
       "      <td>1.000000</td>\n",
       "      <td>1.000000</td>\n",
       "      <td>1.000000</td>\n",
       "      <td>1.000000</td>\n",
       "      <td>1.000000</td>\n",
       "      <td>1.000000</td>\n",
       "      <td>1.000000</td>\n",
       "    </tr>\n",
       "  </tbody>\n",
       "</table>\n",
       "<p>8 rows × 319 columns</p>\n",
       "</div>"
      ],
      "text/plain": [
       "             target      lat_scal      lon_scal       African      American  \\\n",
       "count  26663.000000  26663.000000  26663.000000  26663.000000  26663.000000   \n",
       "mean       0.368713      0.546790      0.559439      0.002813      0.227431   \n",
       "std        0.482465      0.167860      0.138336      0.052963      0.419181   \n",
       "min        0.000000      0.000000      0.000000      0.000000      0.000000   \n",
       "25%        0.000000      0.450015      0.475755      0.000000      0.000000   \n",
       "50%        0.000000      0.560861      0.528453      0.000000      0.000000   \n",
       "75%        1.000000      0.629664      0.632700      0.000000      0.000000   \n",
       "max        1.000000      1.000000      1.000000      1.000000      1.000000   \n",
       "\n",
       "           Armenian         Asian    Australian  Bagels/Pretzels  \\\n",
       "count  26663.000000  26663.000000  26663.000000     26663.000000   \n",
       "mean       0.001388      0.013914      0.000675         0.006676   \n",
       "std        0.037227      0.117138      0.025974         0.081435   \n",
       "min        0.000000      0.000000      0.000000         0.000000   \n",
       "25%        0.000000      0.000000      0.000000         0.000000   \n",
       "50%        0.000000      0.000000      0.000000         0.000000   \n",
       "75%        0.000000      0.000000      0.000000         0.000000   \n",
       "max        1.000000      1.000000      1.000000         1.000000   \n",
       "\n",
       "             Bakery      ...              11433         11434         11435  \\\n",
       "count  26663.000000      ...       26663.000000  26663.000000  26663.000000   \n",
       "mean       0.027641      ...           0.001163      0.003300      0.004013   \n",
       "std        0.163946      ...           0.034079      0.057356      0.063223   \n",
       "min        0.000000      ...           0.000000      0.000000      0.000000   \n",
       "25%        0.000000      ...           0.000000      0.000000      0.000000   \n",
       "50%        0.000000      ...           0.000000      0.000000      0.000000   \n",
       "75%        0.000000      ...           0.000000      0.000000      0.000000   \n",
       "max        1.000000      ...           1.000000      1.000000      1.000000   \n",
       "\n",
       "              11436         11451         11691         11692         11693  \\\n",
       "count  26663.000000  26663.000000  26663.000000  26663.000000  26663.000000   \n",
       "mean       0.000788      0.000038      0.001800      0.000338      0.001388   \n",
       "std        0.028054      0.006124      0.042392      0.018370      0.037227   \n",
       "min        0.000000      0.000000      0.000000      0.000000      0.000000   \n",
       "25%        0.000000      0.000000      0.000000      0.000000      0.000000   \n",
       "50%        0.000000      0.000000      0.000000      0.000000      0.000000   \n",
       "75%        0.000000      0.000000      0.000000      0.000000      0.000000   \n",
       "max        1.000000      1.000000      1.000000      1.000000      1.000000   \n",
       "\n",
       "              11694         11697  \n",
       "count  26663.000000  26663.000000  \n",
       "mean       0.001463      0.000225  \n",
       "std        0.038218      0.015000  \n",
       "min        0.000000      0.000000  \n",
       "25%        0.000000      0.000000  \n",
       "50%        0.000000      0.000000  \n",
       "75%        0.000000      0.000000  \n",
       "max        1.000000      1.000000  \n",
       "\n",
       "[8 rows x 319 columns]"
      ]
     },
     "execution_count": 163,
     "metadata": {},
     "output_type": "execute_result"
    }
   ],
   "source": []
  },
  {
   "cell_type": "code",
   "execution_count": null,
   "metadata": {
    "collapsed": true
   },
   "outputs": [],
   "source": [
    "#modeling starts"
   ]
  },
  {
   "cell_type": "code",
   "execution_count": 39,
   "metadata": {},
   "outputs": [
    {
     "name": "stdout",
     "output_type": "stream",
     "text": [
      "{'C': 0.1, 'class_weight': {1: 1}}\n",
      "roc_auc score:  0.641127427145\n"
     ]
    },
    {
     "data": {
      "text/plain": [
       "['ori_lr.pkl']"
      ]
     },
     "execution_count": 39,
     "metadata": {},
     "output_type": "execute_result"
    }
   ],
   "source": [
    "#Weighted regularized logistic regression\n",
    "lr_estimator = LogisticRegression()\n",
    "param_test = {'C':[0.1, 1, 100, 10000, 10000000], 'class_weight':[{1: 6}, {1: 5}, {1: 4}, {1: 3}, {1: 2}, {1: 1}]}\n",
    "glr = GridSearchCV(lr_estimator, param_grid = param_test, refit = True, cv = 5, n_jobs = -1, scoring = 'roc_auc')\n",
    "glr = glr.fit(Xtrain, ytrain)\n",
    "blr = glr.best_estimator_\n",
    "\n",
    "print (glr.best_params_)\n",
    "lr_score = glr.best_score_\n",
    "print ('roc_auc score: ', lr_score)\n",
    "\n",
    "joblib.dump(blr, 'ori_lr.pkl')"
   ]
  },
  {
   "cell_type": "code",
   "execution_count": 40,
   "metadata": {},
   "outputs": [
    {
     "name": "stdout",
     "output_type": "stream",
     "text": [
      "{'n_neighbors': 6, 'weights': 'uniform'}\n",
      "roc_auc score:  0.596279788209\n"
     ]
    },
    {
     "data": {
      "text/plain": [
       "['ori_kn.pkl']"
      ]
     },
     "execution_count": 40,
     "metadata": {},
     "output_type": "execute_result"
    }
   ],
   "source": [
    "#KNeighbors Classifier\n",
    "knn_estimator = KNeighborsClassifier()\n",
    "param_test = {'n_neighbors':[5, 6, 7], 'weights':['uniform', 'distance']}\n",
    "kn = GridSearchCV(knn_estimator, param_grid = param_test, refit = True, cv = 5, scoring = 'roc_auc', n_jobs = -1)\n",
    "kn = kn.fit(Xtrain, ytrain)\n",
    "bkn = kn.best_estimator_\n",
    "\n",
    "print (kn.best_params_)\n",
    "kn_score = kn.best_score_\n",
    "print ('roc_auc score: ', kn_score)\n",
    "\n",
    "joblib.dump(bkn, 'ori_kn.pkl')"
   ]
  },
  {
   "cell_type": "code",
   "execution_count": 42,
   "metadata": {},
   "outputs": [
    {
     "name": "stdout",
     "output_type": "stream",
     "text": [
      "{'C': 1000}\n",
      "roc_auc score:  0.623343364443\n"
     ]
    },
    {
     "data": {
      "text/plain": [
       "['ori_svc.pkl']"
      ]
     },
     "execution_count": 42,
     "metadata": {},
     "output_type": "execute_result"
    }
   ],
   "source": [
    "#SVC Classifier\n",
    "svc_estimator = SVC()\n",
    "param_test = {'C':[10, 100, 1000]}\n",
    "svc = GridSearchCV(svc_estimator, param_grid = param_test, refit = True, cv = 5, n_jobs = -1, scoring = 'roc_auc')\n",
    "svc = svc.fit(Xtrain, ytrain)\n",
    "bsvc = svc.best_estimator_\n",
    "\n",
    "print (svc.best_params_)\n",
    "svc_score = svc.best_score_\n",
    "print ('roc_auc score: ', svc_score)\n",
    "\n",
    "joblib.dump(bsvc, 'ori_svc.pkl')"
   ]
  },
  {
   "cell_type": "code",
   "execution_count": null,
   "metadata": {
    "collapsed": true
   },
   "outputs": [],
   "source": []
  },
  {
   "cell_type": "code",
   "execution_count": 130,
   "metadata": {
    "collapsed": true
   },
   "outputs": [],
   "source": [
    "#Tree-based model feature important list plot function\n",
    "def plotFeatureImportance(tree_obj, n, features):\n",
    "    importances = tree_obj.feature_importances_\n",
    "    std = np.std([tree.feature_importances_ for tree in tree_obj.estimators_], axis=0)\n",
    "    indices = np.argsort(importances)[::-1]\n",
    "\n",
    "    # Print the feature ranking\n",
    "    print(\"Feature ranking:\")\n",
    "\n",
    "    for f in range(n):\n",
    "        print((f + 1), features[indices[f]])\n",
    "\n",
    "    # Plot the feature importances of the forest\n",
    "    plt.figure()\n",
    "    plt.title(\"Feature importances\")\n",
    "    #plt.bar(range(n), importances[indices[:n]], color=\"r\", yerr=std[indices[:n]], align=\"center\")\n",
    "    plt.bar(range(n), importances[indices[:n]], color=\"r\", align=\"center\")\n",
    "    plt.xticks(range(n), features[indices[:n]], rotation=90)\n",
    "    plt.xlim([-1,n])\n",
    "    plt.show()\n",
    "    return indices\n"
   ]
  },
  {
   "cell_type": "code",
   "execution_count": 43,
   "metadata": {},
   "outputs": [
    {
     "name": "stdout",
     "output_type": "stream",
     "text": [
      "{'max_features': 0.2, 'min_samples_leaf': 10}\n",
      "roc_auc score:  0.647173757462\n"
     ]
    },
    {
     "data": {
      "text/plain": [
       "['ori_rf1.pkl']"
      ]
     },
     "execution_count": 43,
     "metadata": {},
     "output_type": "execute_result"
    }
   ],
   "source": [
    "#Random forest\n",
    "rf_estimator1 = RandomForestClassifier(max_leaf_nodes = 200, min_samples_leaf = 10, min_samples_split = 2, n_estimators = 400, random_state = 1234, n_jobs = -1)\n",
    "param_test = {'max_features': [0.2, 0.3, 0.4], 'min_samples_leaf': [5, 10, 15]}\n",
    "grf1 = GridSearchCV(rf_estimator1, param_grid = param_test, refit =True, cv = 5, scoring = 'roc_auc', n_jobs = -1)\n",
    "grf1 = grf1.fit(Xtrain, ytrain)\n",
    "brf1 = grf1.best_estimator_\n",
    "\n",
    "print (grf1.best_params_)\n",
    "rf_score1 = grf1.best_score_\n",
    "print ('roc_auc score: ', rf_score1)\n",
    "\n",
    "joblib.dump(brf1, 'ori_rf1.pkl')"
   ]
  },
  {
   "cell_type": "code",
   "execution_count": 46,
   "metadata": {
    "scrolled": true
   },
   "outputs": [
    {
     "name": "stdout",
     "output_type": "stream",
     "text": [
      "{'max_features': 0.15, 'n_estimators': 275}\n",
      "roc_auc score:  0.648065103491\n",
      "run time:  204.32877783753815\n"
     ]
    }
   ],
   "source": [
    "#Random forest cont'd finer tuning\n",
    "start = timeit.default_timer()\n",
    "\n",
    "rf_estimator2 = RandomForestClassifier(max_leaf_nodes = 200, min_samples_leaf = 10, min_samples_split = 2, n_estimators = 400, random_state = 1234, n_jobs = -1)\n",
    "param_test = {'n_estimators': [275, 280, 290], 'max_features': [0.1, 0.15, 0.2]}\n",
    "grf2 = GridSearchCV(rf_estimator2, param_grid = param_test, refit = True, cv = 5, scoring = 'roc_auc', n_jobs = -1)\n",
    "grf2 = grf2.fit(Xtrain, ytrain)\n",
    "brf2 = grf2.best_estimator_\n",
    "\n",
    "print (grf2.best_params_)\n",
    "rf_score2 = grf2.best_score_\n",
    "print ('roc_auc score: ', rf_score2)\n",
    "\n",
    "joblib.dump(brf2, 'ori_rf2.pkl')\n",
    "\n",
    "stop = timeit.default_timer()\n",
    "print ('run time: ', stop - start)"
   ]
  },
  {
   "cell_type": "code",
   "execution_count": 131,
   "metadata": {},
   "outputs": [
    {
     "name": "stdout",
     "output_type": "stream",
     "text": [
      "Feature ranking:\n",
      "1 Other\n",
      "2 lon_scal\n",
      "3 lat_scal\n",
      "4 Donuts\n",
      "5 CafÃ©/Coffee/Tea\n",
      "6 Latin (Cuban, Dominican, Puerto Rican, South & Central American)\n",
      "7 Sandwiches\n",
      "8 Spanish\n",
      "9 American\n",
      "10 Chinese\n",
      "11 Japanese\n",
      "12 Caribbean\n",
      "13 Sandwiches/Salads/Mixed Buffet\n",
      "14 Ice Cream, Gelato, Yogurt, Ices\n",
      "15 Hamburgers\n",
      "16 10121\n",
      "17 Korean\n",
      "18 Salads\n",
      "19 Asian\n",
      "20 Pizza/Italian\n",
      "21 Juice, Smoothies, Fruit Salads\n",
      "22 Mexican\n",
      "23 Delicatessen\n",
      "24 Indian\n",
      "25 10013\n",
      "26 Thai\n",
      "27 Chicken\n",
      "28 African\n",
      "29 11368\n",
      "30 Bakery\n"
     ]
    },
    {
     "data": {
      "image/png": "[encoded data removed]",
      "text/plain": [
       "<matplotlib.figure.Figure at 0x11401f69320>"
      ]
     },
     "metadata": {},
     "output_type": "display_data"
    }
   ],
   "source": [
    "#final random forest model feature important plot\n",
    "rf_indices = plotFeatureImportance(brf2, 30, np.array(Xtrain.columns.values))"
   ]
  },
  {
   "cell_type": "code",
   "execution_count": null,
   "metadata": {
    "collapsed": true
   },
   "outputs": [],
   "source": []
  },
  {
   "cell_type": "code",
   "execution_count": 53,
   "metadata": {},
   "outputs": [
    {
     "name": "stdout",
     "output_type": "stream",
     "text": [
      "{'max_features': 0.2, 'min_samples_leaf': 10}\n",
      "roc_auc score:  0.641293867038\n"
     ]
    },
    {
     "data": {
      "text/plain": [
       "['ori_et1.pkl']"
      ]
     },
     "execution_count": 53,
     "metadata": {},
     "output_type": "execute_result"
    }
   ],
   "source": [
    "#Extremely randomized tree\n",
    "et_estimator1 = ExtraTreesClassifier(max_leaf_nodes = 200, min_samples_leaf = 10, min_samples_split = 2, n_estimators = 400, random_state = 1234, n_jobs = -1)\n",
    "param_test = {'max_features': [0.2, 0.3, 0.4], 'min_samples_leaf': [5, 10, 15]}\n",
    "get1 = GridSearchCV(et_estimator1, param_grid = param_test, refit =True, cv = 5, scoring = 'roc_auc', n_jobs = -1)\n",
    "get1 = get1.fit(Xtrain, ytrain)\n",
    "bet1 = get1.best_estimator_\n",
    "\n",
    "print (get1.best_params_)\n",
    "et_score1 = get1.best_score_\n",
    "print ('roc_auc score: ', et_score1)\n",
    "\n",
    "joblib.dump(bet1, 'ori_et1.pkl')"
   ]
  },
  {
   "cell_type": "code",
   "execution_count": 58,
   "metadata": {},
   "outputs": [
    {
     "name": "stdout",
     "output_type": "stream",
     "text": [
      "{'max_features': 0.05, 'n_estimators': 280}\n",
      "roc_auc score:  0.643137216152\n"
     ]
    },
    {
     "data": {
      "text/plain": [
       "['ori_et2.pkl']"
      ]
     },
     "execution_count": 58,
     "metadata": {},
     "output_type": "execute_result"
    }
   ],
   "source": [
    "##Extremely randomized tree cont'd finer tuning\n",
    "\n",
    "et_estimator2 = ExtraTreesClassifier(max_leaf_nodes = 200, min_samples_leaf = 10, min_samples_split = 2, n_estimators = 400, random_state = 1234, n_jobs = -1)\n",
    "param_test = {'n_estimators': [275, 280, 285], 'max_features': [0.02, 0.05, 0.1]}\n",
    "get2 = GridSearchCV(et_estimator2, param_grid = param_test, refit = True, cv = 5, scoring = 'roc_auc', n_jobs = -1)\n",
    "get2 = get2.fit(Xtrain, ytrain)\n",
    "bet2 = get2.best_estimator_\n",
    "\n",
    "print (get2.best_params_)\n",
    "et_score2 = get2.best_score_\n",
    "print ('roc_auc score: ', et_score2)\n",
    "\n",
    "joblib.dump(bet2, 'ori_et2.pkl')\n",
    "\n"
   ]
  },
  {
   "cell_type": "code",
   "execution_count": 66,
   "metadata": {},
   "outputs": [
    {
     "name": "stdout",
     "output_type": "stream",
     "text": [
      "Feature ranking:\n",
      "1 Other\n",
      "2 Donuts\n",
      "3 CafÃ©/Coffee/Tea\n",
      "4 Latin (Cuban, Dominican, Puerto Rican, South & Central American)\n",
      "5 Sandwiches\n",
      "6 Spanish\n",
      "7 Japanese\n",
      "8 Caribbean\n",
      "9 Chinese\n",
      "10 American\n",
      "11 Sandwiches/Salads/Mixed Buffet\n",
      "12 Asian\n",
      "13 10121\n",
      "14 Hamburgers\n",
      "15 Korean\n",
      "16 Ice Cream, Gelato, Yogurt, Ices\n",
      "17 lon_scal\n",
      "18 Salads\n",
      "19 Pizza/Italian\n",
      "20 Delicatessen\n",
      "21 Indian\n",
      "22 Mexican\n",
      "23 lat_scal\n",
      "24 African\n",
      "25 11220\n",
      "26 11368\n",
      "27 Juice, Smoothies, Fruit Salads\n",
      "28 10009\n",
      "29 10013\n",
      "30 11234\n"
     ]
    },
    {
     "data": {
      "image/png": "[encoded data removed]",
      "text/plain": [
       "<matplotlib.figure.Figure at 0x11401a35668>"
      ]
     },
     "metadata": {},
     "output_type": "display_data"
    }
   ],
   "source": [
    "#final extremely randomized tree model feature important plot\n",
    "et_indices = plotFeatureImportance(bet2, 30, np.array(Xtrain.columns.values))"
   ]
  },
  {
   "cell_type": "code",
   "execution_count": null,
   "metadata": {
    "collapsed": true
   },
   "outputs": [],
   "source": []
  },
  {
   "cell_type": "code",
   "execution_count": 100,
   "metadata": {},
   "outputs": [
    {
     "name": "stdout",
     "output_type": "stream",
     "text": [
      "{'max_depth': 10, 'min_child_weight': 8}\n",
      "roc_auc score:  0.644004911773\n"
     ]
    },
    {
     "data": {
      "text/plain": [
       "['ori_xgb1.pkl']"
      ]
     },
     "execution_count": 100,
     "metadata": {},
     "output_type": "execute_result"
    }
   ],
   "source": [
    "#xgboost\n",
    "xgb_estimator1 = XGBClassifier(max_depth = 5, min_child_weight = 7, colsample_bytree = 0.8, subsample = 0.8, n_estimators = 200, gamma = 0, colsample_bylevel = 1, learning_rate=0.01, objective= 'binary:logistic', random_state =1234, n_jobs = -1)\n",
    "param_test = {'max_depth': range(4,11,2), 'min_child_weight': [range(4,9,2)]}\n",
    "gxgb1 = GridSearchCV(xgb_estimator1, param_grid = param_test, refit = True, cv = 5, scoring = 'roc_auc', n_jobs = -1)\n",
    "gxgb1 = gxgb1.fit(Xtrain, ytrain)\n",
    "bxgb1 = gxgb1.best_estimator_\n",
    "\n",
    "print (gxgb1.best_params_)\n",
    "xgb_score1 = gxgb1.best_score_\n",
    "print ('roc_auc score: ', xgb_score1)\n",
    "\n",
    "joblib.dump(bxgb1, 'ori_xgb1.pkl')\n",
    "      "
   ]
  },
  {
   "cell_type": "code",
   "execution_count": 101,
   "metadata": {},
   "outputs": [
    {
     "name": "stdout",
     "output_type": "stream",
     "text": [
      "{'max_depth': 10, 'min_child_weight': 8}\n",
      "roc_auc score:  0.644004911773\n"
     ]
    },
    {
     "data": {
      "text/plain": [
       "['ori_xgb2.pkl']"
      ]
     },
     "execution_count": 101,
     "metadata": {},
     "output_type": "execute_result"
    }
   ],
   "source": [
    "#xgboost cont'd finer tuning\n",
    "xgb_estimator2 = XGBClassifier(max_depth = 5, min_child_weight = 7, colsample_bytree = 0.8, subsample = 0.8, n_estimators = 200, gamma = 0, colsample_bylevel = 1, learning_rate=0.01, objective= 'binary:logistic', random_state =1234, n_jobs = -1)\n",
    "param_test = {'max_depth': [10, 11], 'min_child_weight': [8, 9]}\n",
    "gxgb2 = GridSearchCV(xgb_estimator2, param_grid = param_test, refit = True, cv = 5, scoring = 'roc_auc', n_jobs = -1)\n",
    "gxgb2 = gxgb2.fit(Xtrain, ytrain)\n",
    "bxgb2 = gxgb2.best_estimator_\n",
    "\n",
    "print (gxgb2.best_params_)\n",
    "xgb_score2 = gxgb2.best_score_\n",
    "print ('roc_auc score: ', xgb_score2)\n",
    "\n",
    "joblib.dump(bxgb2, 'ori_xgb2.pkl')"
   ]
  },
  {
   "cell_type": "code",
   "execution_count": 102,
   "metadata": {},
   "outputs": [
    {
     "name": "stdout",
     "output_type": "stream",
     "text": [
      "{'gamma': 0.0}\n",
      "roc_auc score:  0.644004911773\n"
     ]
    },
    {
     "data": {
      "text/plain": [
       "['ori_xgb3.pkl']"
      ]
     },
     "execution_count": 102,
     "metadata": {},
     "output_type": "execute_result"
    }
   ],
   "source": [
    "#xgboost cont'd finer tuning\n",
    "xgb_estimator3 = XGBClassifier(max_depth = 10, min_child_weight = 8, colsample_bytree = 0.8, subsample = 0.8, n_estimators = 200, gamma = 0, colsample_bylevel = 1, learning_rate=0.01, objective= 'binary:logistic', random_state =1234, n_jobs = -1)\n",
    "param_test = {'gamma':[i/10.0 for i in range(0,5)]}\n",
    "gxgb3 = GridSearchCV(xgb_estimator3, param_grid = param_test, refit = True, cv = 5, scoring = 'roc_auc', n_jobs = -1)\n",
    "gxgb3 = gxgb3.fit(Xtrain, ytrain)\n",
    "bxgb3 = gxgb3.best_estimator_\n",
    "\n",
    "print (gxgb3.best_params_)\n",
    "xgb_score3 = gxgb3.best_score_\n",
    "print ('roc_auc score: ', xgb_score3)\n",
    "\n",
    "joblib.dump(bxgb3, 'ori_xgb3.pkl')"
   ]
  },
  {
   "cell_type": "code",
   "execution_count": 108,
   "metadata": {},
   "outputs": [
    {
     "name": "stdout",
     "output_type": "stream",
     "text": [
      "252\n"
     ]
    }
   ],
   "source": [
    "#xgboost cont'd finer tuning\n",
    "#calibrate the best number of round(n_estimator) with early-stopping enabled\n",
    "xgb_param = bxgb3.get_xgb_params()\n",
    "dm_train = xgb.DMatrix(Xtrain, label = ytrain)\n",
    "cvresult = xgb.cv(xgb_param, dm_train, num_boost_round=400, nfold=5, metrics='auc', early_stopping_rounds=50)\n",
    "print (cvresult.shape[0])"
   ]
  },
  {
   "cell_type": "code",
   "execution_count": 109,
   "metadata": {},
   "outputs": [
    {
     "name": "stdout",
     "output_type": "stream",
     "text": [
      "{'colsample_bytree': 0.9, 'subsample': 0.6}\n",
      "roc_auc score:  0.645702925483\n"
     ]
    },
    {
     "data": {
      "text/plain": [
       "['ori_xgb4.pkl']"
      ]
     },
     "execution_count": 109,
     "metadata": {},
     "output_type": "execute_result"
    }
   ],
   "source": [
    "#xgboost cont'd finer tuning\n",
    "xgb_estimator4 = XGBClassifier(max_depth = 10, min_child_weight = 8, colsample_bytree = 0.8, subsample = 0.8, n_estimators = 252, gamma = 0, colsample_bylevel = 1, learning_rate=0.01, objective= 'binary:logistic', random_state =1234, n_jobs = -1)\n",
    "param_test = {'subsample':[i/10.0 for i in range(6,10)], 'colsample_bytree':[i/10.0 for i in range(6,10)]}\n",
    "gxgb4 = GridSearchCV(xgb_estimator4, param_grid = param_test, refit = True, cv = 5, scoring = 'roc_auc', n_jobs = -1)\n",
    "gxgb4 = gxgb4.fit(Xtrain, ytrain)\n",
    "bxgb4 = gxgb4.best_estimator_\n",
    "\n",
    "print (gxgb4.best_params_)\n",
    "xgb_score4 = gxgb4.best_score_\n",
    "print ('roc_auc score: ', xgb_score4)\n",
    "\n",
    "joblib.dump(bxgb4, 'ori_xgb4.pkl')"
   ]
  },
  {
   "cell_type": "code",
   "execution_count": 110,
   "metadata": {},
   "outputs": [
    {
     "name": "stdout",
     "output_type": "stream",
     "text": [
      "{'reg_alpha': 1}\n",
      "roc_auc score:  0.645926572333\n"
     ]
    },
    {
     "data": {
      "text/plain": [
       "['ori_xgb5.pkl']"
      ]
     },
     "execution_count": 110,
     "metadata": {},
     "output_type": "execute_result"
    }
   ],
   "source": [
    "#xgboost cont'd finer tuning\n",
    "xgb_estimator5 = XGBClassifier(max_depth = 10, min_child_weight = 8, colsample_bytree = 0.9, subsample = 0.6, n_estimators = 252, gamma = 0, colsample_bylevel = 1, learning_rate=0.01, objective= 'binary:logistic', random_state =1234, n_jobs = -1)\n",
    "param_test = {'reg_alpha':[1e-5, 1e-2, 0.1, 1, 100]}\n",
    "gxgb5 = GridSearchCV(xgb_estimator5, param_grid = param_test, refit = True, cv = 5, scoring = 'roc_auc', n_jobs = -1)\n",
    "gxgb5 = gxgb5.fit(Xtrain, ytrain)\n",
    "bxgb5 = gxgb5.best_estimator_\n",
    "\n",
    "print (gxgb5.best_params_)\n",
    "xgb_score5 = gxgb5.best_score_\n",
    "print ('roc_auc score: ', xgb_score5)\n",
    "\n",
    "joblib.dump(bxgb5, 'ori_xgb5.pkl')"
   ]
  },
  {
   "cell_type": "code",
   "execution_count": 111,
   "metadata": {},
   "outputs": [
    {
     "name": "stdout",
     "output_type": "stream",
     "text": [
      "482\n"
     ]
    }
   ],
   "source": [
    "#xgboost cont'd finer tuning\n",
    "#calibrate the best number of round(n_estimator) with early-stopping enabled\n",
    "\n",
    "xgb_param = bxgb5.get_xgb_params()\n",
    "cvresult = xgb.cv(xgb_param, dm_train, num_boost_round=600, nfold=5, metrics='auc', early_stopping_rounds=50)\n",
    "print (cvresult.shape[0])"
   ]
  },
  {
   "cell_type": "code",
   "execution_count": 112,
   "metadata": {},
   "outputs": [
    {
     "name": "stdout",
     "output_type": "stream",
     "text": [
      "{'n_estimators': 497}\n",
      "roc_auc score:  0.647281254538\n"
     ]
    },
    {
     "data": {
      "text/plain": [
       "['ori_xgb6.pkl']"
      ]
     },
     "execution_count": 112,
     "metadata": {},
     "output_type": "execute_result"
    }
   ],
   "source": [
    "#xgboost cont'd finer tuning according to early-stop enabled best number_of_boost_round\n",
    "\n",
    "xgb_estimator6 = XGBClassifier(max_depth = 10, min_child_weight = 8, reg_alpha = 1, colsample_bytree = 0.9, subsample = 0.6, n_estimators = 482, gamma = 0, colsample_bylevel = 1, learning_rate=0.01, objective= 'binary:logistic', random_state =1234, n_jobs = -1)\n",
    "param_test = {'n_estimators':range(462, 503, 5)}\n",
    "gxgb6 = GridSearchCV(xgb_estimator6, param_grid = param_test, refit = True, cv = 5, scoring = 'roc_auc', n_jobs = -1)\n",
    "gxgb6 = gxgb6.fit(Xtrain, ytrain)\n",
    "bxgb6 = gxgb6.best_estimator_\n",
    "\n",
    "print (gxgb6.best_params_)\n",
    "xgb_score6 = gxgb6.best_score_\n",
    "print ('roc_auc score: ', xgb_score6)\n",
    "\n",
    "joblib.dump(bxgb6, 'ori_xgb6.pkl')"
   ]
  },
  {
   "cell_type": "code",
   "execution_count": 135,
   "metadata": {
    "collapsed": true
   },
   "outputs": [],
   "source": [
    "#xgboost specific feature important list plot function\n",
    "#xgboost usage is different from other sklearn tree based models in this aspect\n",
    "def plotFeatureImportance_xgb(xgb, n):\n",
    "    imp = pd.DataFrame.from_dict(bxgb.get_fscore(), 'index').reset_index()\n",
    "    imp.columns = ['feature','importance']\n",
    "    importances = imp.sort_values('importance', ascending=False)\n",
    "    indices = np.array(importances.index)\n",
    "    importances = importances.reset_index(drop=True)\n",
    "    total = importances['importance'].sum()\n",
    "    importances['importance'] = importances['importance']/total\n",
    "    # Print the feature ranking\n",
    "    print(\"Feature ranking:\")\n",
    "    n = min(n, importances.shape[0])\n",
    "    \n",
    "    for f in range(n):\n",
    "        print((f + 1), importances['feature'][f])\n",
    "\n",
    "    # Plot the feature importances of the forest\n",
    "    plt.figure()\n",
    "    plt.title(\"Feature importances\")\n",
    "    plt.bar(range(n), importances['importance'][:n], color=\"r\",  align=\"center\")\n",
    "    plt.xticks(range(n), importances['feature'][:n], rotation=90)\n",
    "    plt.xlim([-1,n])\n",
    "    plt.show()\n",
    "    return indices"
   ]
  },
  {
   "cell_type": "code",
   "execution_count": 115,
   "metadata": {},
   "outputs": [
    {
     "name": "stdout",
     "output_type": "stream",
     "text": [
      "Feature ranking:\n",
      "1 lat_scal\n",
      "2 lon_scal\n",
      "3 Other\n",
      "4 Donuts\n",
      "5 CafÃ©/Coffee/Tea\n",
      "6 Sandwiches\n",
      "7 American\n",
      "8 Latin (Cuban, Dominican, Puerto Rican, South & Central American)\n",
      "9 Sandwiches/Salads/Mixed Buffet\n",
      "10 Ice Cream, Gelato, Yogurt, Ices\n",
      "11 Spanish\n",
      "12 Hamburgers\n",
      "13 10121\n",
      "14 Salads\n",
      "15 Caribbean\n",
      "16 Japanese\n",
      "17 Juice, Smoothies, Fruit Salads\n",
      "18 Korean\n",
      "19 Chinese\n",
      "20 Asian\n",
      "21 11375\n",
      "22 Delicatessen\n",
      "23 11213\n",
      "24 10031\n",
      "25 11355\n",
      "26 11354\n",
      "27 African\n",
      "28 Indian\n",
      "29 Chicken\n",
      "30 Pizza/Italian\n"
     ]
    },
    {
     "data": {
      "image/png": "[encoded data removed]",
      "text/plain": [
       "<matplotlib.figure.Figure at 0x114016f2cc0>"
      ]
     },
     "metadata": {},
     "output_type": "display_data"
    }
   ],
   "source": [
    "#final xgboost model feature important plot; \n",
    "#use the best hyperparameters which are tuned by sklearn xgboost API; \n",
    "#however, need to use these best hyper parameters to re-run the model using xgboost libarary directly to enable feature importance\n",
    "params = bxgb6.get_xgb_params()\n",
    "xgb = xgb.train(params, dm_train, num_boost_round= params['n_estimators'], verbose_eval = False)\n",
    "xgbindices = plotFeatureImportance_xgb(xgb, 30) \n"
   ]
  },
  {
   "cell_type": "code",
   "execution_count": null,
   "metadata": {
    "collapsed": true
   },
   "outputs": [],
   "source": []
  },
  {
   "cell_type": "code",
   "execution_count": 173,
   "metadata": {},
   "outputs": [
    {
     "data": {
      "image/png": "[encoded data removed]",
      "text/plain": [
       "<matplotlib.figure.Figure at 0x11410b15400>"
      ]
     },
     "metadata": {},
     "output_type": "display_data"
    }
   ],
   "source": [
    "#models comparison\n",
    "models = []\n",
    "models.append(('Logistic Regression', lr_score))\n",
    "models.append(('K Nearest Neighbor', kn_score))\n",
    "models.append(('Support Vector Machine', svc_score))\n",
    "models.append(('Random Forest', rf_score2))\n",
    "models.append(('Extremely Randomized Tree', et_score2))\n",
    "models.append(('Xgboost', xgb_score6))\n",
    "results = []\n",
    "names = []\n",
    "for name, model in models:\n",
    "    results.append(model)\n",
    "    names.append(name)\n",
    "\n",
    "plt.figure()\n",
    "plt.title(\"Algorithm Comparison\")\n",
    "plt.bar(range(6), results, color=\"b\",  align=\"center\")\n",
    "plt.xticks(range(6), names, rotation=90)\n",
    "plt.ylim(0.55, 0.65)\n",
    "plt.show()\n",
    "#random forest is the best model to select"
   ]
  },
  {
   "cell_type": "code",
   "execution_count": 125,
   "metadata": {
    "collapsed": true
   },
   "outputs": [],
   "source": [
    "#model performance util functions\n",
    "def plotLabel(ax):\n",
    "        ax.set_xlim([0.0, 1.0])\n",
    "        ax.set_ylim([0.0, 1.05])\n",
    "        ax.set_xlabel('False Positive Rate')\n",
    "        ax.set_ylabel('True Positive Rate')\n",
    "        ax.set_title('Receiver operating characteristic')\n",
    "        ax.legend(loc=\"lower right\")\n",
    "\n",
    "\n",
    "\n",
    "def make_com_roc_curve(g_ypred_pro, yh, g_model):        \n",
    "        fpr = []\n",
    "        tpr = []\n",
    "        roc_auc = []\n",
    "        n = len(g_ypred_pro)\n",
    "        for i in range(n):\n",
    "            ypred_pro1 = g_ypred_pro[i]\n",
    "            fpr1, tpr1, _ = roc_curve(yh, ypred_pro1[:, 1])\n",
    "            roc_auc1 = auc(fpr1, tpr1)\n",
    "            fpr.append(fpr1)\n",
    "            tpr.append(tpr1)\n",
    "            roc_auc.append(roc_auc1)\n",
    "    \n",
    "        #plt.figure()\n",
    "        fig, ax = plt.subplots(figsize=(6,6))\n",
    "        lw = 2\n",
    "        color = ['red', 'darkorange', 'green']\n",
    "        for i in range(n):\n",
    "            \n",
    "            ax.plot(fpr[i], tpr[i], color=color[i], lw=lw, label= g_model[i] + ' ROC curve (area = %0.2f)' % roc_auc[i])\n",
    "        \n",
    "        ax.plot([0, 1], [0, 1], color='navy', lw=lw, linestyle='--')\n",
    "        plotLabel(ax)\n",
    "    \n",
    "        plt.show()\n",
    "\n",
    "def plotcm(fig, ax, cm, classes, model = '', normalize = False, cmap=plt.cm.Blues):\n",
    "        if normalize:\n",
    "            cm = cm.astype('float') / cm.sum(axis=1)[:, np.newaxis]\n",
    "            title = model + \" Normalized Confusion Matrix\"\n",
    "        else:\n",
    "            title = model + ' Confusion Matrix'\n",
    "\n",
    "        img = ax.imshow(cm, interpolation='nearest', cmap=cmap)\n",
    "        ax.set_title(title)\n",
    "        fig.colorbar(img, ax=ax)\n",
    "        #tick_marks = np.arange(len(classes))\n",
    "        ax.set_xticks(classes) #, rotation=45)\n",
    "        ax.set_yticks(classes)\n",
    "        #ax.set_xticks(tick_marks, classes)\n",
    "\n",
    "        fmt = '.2f' if normalize else 'd'\n",
    "        thresh = cm.max() / 2.\n",
    "        for i, j in itertools.product(range(cm.shape[0]), range(cm.shape[1])):\n",
    "            ax.text(j, i, format(cm[i, j], fmt),\n",
    "            horizontalalignment=\"center\",\n",
    "            #color=\"red\" if cm[i, j] > thresh else \"black\")\n",
    "            color=\"red\")\n",
    "        \n",
    "        ax.set_ylabel('True label')\n",
    "        ax.set_xlabel('Predicted label')\n",
    "        \n",
    "    \n",
    "def make_confusion_matrix(ypred, yh, model = \"\"):\n",
    "        cnf_matrix = confusion_matrix(yh, ypred)\n",
    "        \n",
    "        np.set_printoptions(precision=2)\n",
    "        classes = list(np.unique(yh))\n",
    "        \n",
    "        \n",
    "        #plt.figure()\n",
    "        fig, (ax1, ax2)= plt.subplots(ncols=2, figsize=(12, 6))\n",
    "        plotcm(fig, ax1, cnf_matrix, classes, model, False)\n",
    "        #plt.figure()\n",
    "        plotcm(fig, ax2, cnf_matrix, classes, model, True)\n",
    "        \n",
    "        \n",
    "        plt.tight_layout()\n",
    "        plt.show()\n",
    "\n",
    "        \n",
    "def make_lift_chart(ypred_pro, yh, model, quantiles = 10):\n",
    "        ypred = ypred_pro[:, 1]\n",
    "        dt = np.array([ypred, yh])\n",
    "        \n",
    "        dt_lift = pd.DataFrame(dt.T, columns = ['pred', 'actual'])\n",
    "        dt_lift['volume'] = 1\n",
    "        \n",
    "        dt_lift.sort_values(by = 'pred', inplace = True)\n",
    "        \n",
    "        dt_lift['cum_w'] = dt_lift['volume'].cumsum()\n",
    "        total_volume = dt_lift['volume'].sum()\n",
    "        total_pred = dt_lift['pred'].sum()\n",
    "        total_actual = dt_lift['actual'].sum()\n",
    "        \n",
    "        dt_lift['pred'] = dt_lift['pred'] * (total_actual/total_pred)\n",
    "        \n",
    "        dt_lift['volume'] = dt_lift['volume'] * (total_actual/total_volume)\n",
    "        \n",
    "        \n",
    "        dt_lift['rank'] = np.ceil(dt_lift['cum_w'] * quantiles/total_volume)\n",
    "        dt_lift.loc[dt_lift['rank'] < 1, 'rank'] = 1\n",
    "        dt_lift.loc[dt_lift['rank'] > quantiles, 'rank'] = quantiles\n",
    "        \n",
    "                  \n",
    "        liftTable = dt_lift.groupby(['rank'])[['pred', 'actual', 'volume']].sum()\n",
    "        liftTable['l_actual'] = liftTable['actual']/liftTable['volume']\n",
    "        liftTable['l_pred'] = liftTable['pred']/liftTable['volume']          \n",
    "        \n",
    "        fig = plt.figure()\n",
    "        lw = 2\n",
    "        liftTable['l_actual'].plot(color = 'red', linestyle = '-', lw = lw, legend = True, label = 'Actual', use_index = True)\n",
    "        liftTable['l_pred'].plot(color = 'dodgerblue', linestyle = '-', lw = lw, legend = True, label = 'Prediction')\n",
    "        plt.title('{}'.format(model + \" Lift Chart\"), fontsize = 18)\n",
    "        plt.xlabel(\"Decile\")\n",
    "       \n",
    "        plt.ylabel('Response')\n",
    "        plt.show()"
   ]
  },
  {
   "cell_type": "code",
   "execution_count": 129,
   "metadata": {},
   "outputs": [
    {
     "data": {
      "image/png": "[encoded data removed]",
      "text/plain": [
       "<matplotlib.figure.Figure at 0x114020be4e0>"
      ]
     },
     "metadata": {},
     "output_type": "display_data"
    },
    {
     "data": {
      "image/png": "[encoded data removed]",
      "text/plain": [
       "<matplotlib.figure.Figure at 0x11401f67cc0>"
      ]
     },
     "metadata": {},
     "output_type": "display_data"
    },
    {
     "data": {
      "image/png": "[encoded data removed]",
      "text/plain": [
       "<matplotlib.figure.Figure at 0x11401945828>"
      ]
     },
     "metadata": {},
     "output_type": "display_data"
    }
   ],
   "source": [
    "#test on holdout with the selected best model -- Random_Forest\n",
    "model = 'Random Forest'        \n",
    "ypred_pro = brf2.predict_proba(Xhold)\n",
    "ypred = brf2.predict(Xhold)\n",
    "\n",
    "\n",
    "make_com_roc_curve([ypred_pro], yhold, [model]) \n",
    "make_confusion_matrix(ypred, yhold, model = model)\n",
    "make_lift_chart(ypred_pro, yhold, model)"
   ]
  },
  {
   "cell_type": "code",
   "execution_count": 154,
   "metadata": {},
   "outputs": [],
   "source": [
    "#brf2 random forest classifier has 275 trees; only save 5 trees\n",
    "i_tree = 1\n",
    "features = Xtrain.columns.values\n",
    "for tree_in_forest in brf2.estimators_:\n",
    "        dot_data = StringIO() \n",
    "        tree.export_graphviz(tree_in_forest, out_file=dot_data, feature_names=features, class_names = True, filled = True)  \n",
    "        graph = pydotplus.graph_from_dot_data(dot_data.getvalue())\n",
    "        if i_tree>5:\n",
    "            break\n",
    "        graph.write_png('RFtree_' + str(i_tree)+'.png')\n",
    "        i_tree = i_tree + 1\n",
    "        "
   ]
  },
  {
   "cell_type": "markdown",
   "metadata": {},
   "source": [
    "# one example of tree from random forest\n",
    "<img src=\"RFtree_1.png\" style=\"height:auto\">"
   ]
  },
  {
   "cell_type": "code",
   "execution_count": 1,
   "metadata": {},
   "outputs": [],
   "source": [
    "import geopandas as gpd\n",
    "from shapely.geometry import Point\n",
    "import urllib"
   ]
  },
  {
   "cell_type": "code",
   "execution_count": 4,
   "metadata": {},
   "outputs": [],
   "source": [
    "data_v1 = pd.read_csv(\"data_v1.csv\", dtype = {'ZIPCODE':str, 'PHONE':str, 'CAMIS':str})"
   ]
  },
  {
   "cell_type": "code",
   "execution_count": 5,
   "metadata": {},
   "outputs": [],
   "source": [
    "zip_m = data_v1.groupby(['ZIPCODE'])[['target']].mean()"
   ]
  },
  {
   "cell_type": "code",
   "execution_count": 6,
   "metadata": {},
   "outputs": [],
   "source": [
    "zip_mean = zip_m['target'].to_dict()"
   ]
  },
  {
   "cell_type": "code",
   "execution_count": 7,
   "metadata": {},
   "outputs": [],
   "source": [
    "data_v1['zip_mean'] = data_v1['ZIPCODE'].map(lambda x: zip_mean[x])"
   ]
  },
  {
   "cell_type": "code",
   "execution_count": 8,
   "metadata": {},
   "outputs": [],
   "source": [
    "def make_point(row):\n",
    "    return Point(row.longitude_fillna, row.latitude_fillna)\n",
    "\n",
    "points = data_v1.apply(make_point, axis=1)\n",
    "\n",
    "map1 = gpd.GeoDataFrame(data_v1, geometry=points)"
   ]
  },
  {
   "cell_type": "code",
   "execution_count": 16,
   "metadata": {},
   "outputs": [
    {
     "data": {
      "text/plain": [
       "<matplotlib.axes._subplots.AxesSubplot at 0x1a1b8524a8>"
      ]
     },
     "execution_count": 16,
     "metadata": {},
     "output_type": "execute_result"
    },
    {
     "data": {
      "image/png": "[encoded data removed]",
      "text/plain": [
       "<matplotlib.figure.Figure at 0x1a1b87e438>"
      ]
     },
     "metadata": {},
     "output_type": "display_data"
    }
   ],
   "source": [
    "map1.plot(figsize=(15,15), column='zip_mean', cmap='seismic', marker='o', markersize=0.8)"
   ]
  },
  {
   "cell_type": "code",
   "execution_count": null,
   "metadata": {},
   "outputs": [],
   "source": []
  }
 ],
 "metadata": {
  "anaconda-cloud": {},
  "kernelspec": {
   "display_name": "Python [default]",
   "language": "python",
   "name": "python3"
  },
  "language_info": {
   "codemirror_mode": {
    "name": "ipython",
    "version": 3
   },
   "file_extension": ".py",
   "mimetype": "text/x-python",
   "name": "python",
   "nbconvert_exporter": "python",
   "pygments_lexer": "ipython3",
   "version": "3.5.4"
  }
 },
 "nbformat": 4,
 "nbformat_minor": 2
}
