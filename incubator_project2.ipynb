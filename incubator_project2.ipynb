{
 "cells": [
  {
   "cell_type": "code",
   "execution_count": 72,
   "metadata": {
    "collapsed": true
   },
   "outputs": [],
   "source": [
    "import pandas as pd\n",
    "import numpy as np\n",
    "import matplotlib.pyplot as plt\n",
    "from sklearn.model_selection import train_test_split\n",
    "from sklearn.linear_model import LogisticRegression\n",
    "from sklearn.ensemble import RandomForestClassifier\n",
    "from sklearn.model_selection import GridSearchCV\n",
    "from sklearn.metrics import roc_auc_score, roc_curve, auc, log_loss, confusion_matrix\n",
    "from sklearn.externals import joblib\n",
    "import warnings\n",
    "import itertools\n",
    "warnings.filterwarnings('ignore')\n",
    "warnings.filterwarnings(\"ignore\", category=DeprecationWarning) "
   ]
  },
  {
   "cell_type": "code",
   "execution_count": 2,
   "metadata": {
    "collapsed": true
   },
   "outputs": [],
   "source": [
    "#read raw data\n",
    "restaurant = pd.read_csv(\"DOHMH_New_York_City_Restaurant_Inspection_Results.csv\", dtype = {'ZIPCODE':str, 'PHONE':str}, parse_dates = ['INSPECTION DATE', 'GRADE DATE', 'RECORD DATE'])\n"
   ]
  },
  {
   "cell_type": "code",
   "execution_count": 3,
   "metadata": {
    "collapsed": true
   },
   "outputs": [],
   "source": [
    "restaurant = restaurant.drop(['ACTION', 'VIOLATION CODE', 'VIOLATION DESCRIPTION', 'CRITICAL FLAG'], axis=1)"
   ]
  },
  {
   "cell_type": "code",
   "execution_count": 4,
   "metadata": {
    "collapsed": true
   },
   "outputs": [],
   "source": [
    "restaurant = restaurant.drop(['INSPECTION TYPE'], axis=1)"
   ]
  },
  {
   "cell_type": "code",
   "execution_count": 32,
   "metadata": {
    "collapsed": true
   },
   "outputs": [],
   "source": [
    "tmp = restaurant[restaurant['SCORE'].isnull()]"
   ]
  },
  {
   "cell_type": "code",
   "execution_count": 33,
   "metadata": {},
   "outputs": [
    {
     "data": {
      "text/html": [
       "<div>\n",
       "<style scoped>\n",
       "    .dataframe tbody tr th:only-of-type {\n",
       "        vertical-align: middle;\n",
       "    }\n",
       "\n",
       "    .dataframe tbody tr th {\n",
       "        vertical-align: top;\n",
       "    }\n",
       "\n",
       "    .dataframe thead th {\n",
       "        text-align: right;\n",
       "    }\n",
       "</style>\n",
       "<table border=\"1\" class=\"dataframe\">\n",
       "  <thead>\n",
       "    <tr style=\"text-align: right;\">\n",
       "      <th></th>\n",
       "      <th>CAMIS</th>\n",
       "      <th>DBA</th>\n",
       "      <th>BORO</th>\n",
       "      <th>BUILDING</th>\n",
       "      <th>STREET</th>\n",
       "      <th>ZIPCODE</th>\n",
       "      <th>PHONE</th>\n",
       "      <th>CUISINE DESCRIPTION</th>\n",
       "      <th>INSPECTION DATE</th>\n",
       "      <th>SCORE</th>\n",
       "      <th>GRADE</th>\n",
       "      <th>GRADE DATE</th>\n",
       "      <th>RECORD DATE</th>\n",
       "    </tr>\n",
       "  </thead>\n",
       "  <tbody>\n",
       "    <tr>\n",
       "      <th>26628</th>\n",
       "      <td>50065304</td>\n",
       "      <td>CHURCH AVENUE PIZZA</td>\n",
       "      <td>BROOKLYN</td>\n",
       "      <td>1916B</td>\n",
       "      <td>CHURCH AVE</td>\n",
       "      <td>11226</td>\n",
       "      <td>7184626060</td>\n",
       "      <td>Pizza</td>\n",
       "      <td>2017-12-11</td>\n",
       "      <td>NaN</td>\n",
       "      <td>Not Yet Graded</td>\n",
       "      <td>NaT</td>\n",
       "      <td>2018-02-02</td>\n",
       "    </tr>\n",
       "    <tr>\n",
       "      <th>126947</th>\n",
       "      <td>50059949</td>\n",
       "      <td>FLIK @ HOLY NAME PROVINCE</td>\n",
       "      <td>MANHATTAN</td>\n",
       "      <td>129</td>\n",
       "      <td>W 31ST ST</td>\n",
       "      <td>10001</td>\n",
       "      <td>6464730265</td>\n",
       "      <td>Other</td>\n",
       "      <td>2017-03-06</td>\n",
       "      <td>NaN</td>\n",
       "      <td>Not Yet Graded</td>\n",
       "      <td>NaT</td>\n",
       "      <td>2018-02-02</td>\n",
       "    </tr>\n",
       "    <tr>\n",
       "      <th>184576</th>\n",
       "      <td>41648221</td>\n",
       "      <td>YEMEN ALSAED CAFE</td>\n",
       "      <td>BROOKLYN</td>\n",
       "      <td>7130</td>\n",
       "      <td>5 AVENUE</td>\n",
       "      <td>11209</td>\n",
       "      <td>7187453000</td>\n",
       "      <td>Middle Eastern</td>\n",
       "      <td>2016-03-09</td>\n",
       "      <td>NaN</td>\n",
       "      <td>A</td>\n",
       "      <td>2016-03-09</td>\n",
       "      <td>2018-02-02</td>\n",
       "    </tr>\n",
       "    <tr>\n",
       "      <th>211791</th>\n",
       "      <td>41648221</td>\n",
       "      <td>YEMEN ALSAED CAFE</td>\n",
       "      <td>BROOKLYN</td>\n",
       "      <td>7130</td>\n",
       "      <td>5 AVENUE</td>\n",
       "      <td>11209</td>\n",
       "      <td>7187453000</td>\n",
       "      <td>Middle Eastern</td>\n",
       "      <td>2016-03-09</td>\n",
       "      <td>NaN</td>\n",
       "      <td>A</td>\n",
       "      <td>2016-03-09</td>\n",
       "      <td>2018-02-02</td>\n",
       "    </tr>\n",
       "    <tr>\n",
       "      <th>364831</th>\n",
       "      <td>50051917</td>\n",
       "      <td>KENNEDY FRIED CHICKEN &amp; PIZZA</td>\n",
       "      <td>BRONX</td>\n",
       "      <td>2558</td>\n",
       "      <td>GRAND CONCOURSE</td>\n",
       "      <td>10458</td>\n",
       "      <td>7187330300</td>\n",
       "      <td>Chicken</td>\n",
       "      <td>1900-01-01</td>\n",
       "      <td>NaN</td>\n",
       "      <td>A</td>\n",
       "      <td>NaT</td>\n",
       "      <td>2018-02-02</td>\n",
       "    </tr>\n",
       "  </tbody>\n",
       "</table>\n",
       "</div>"
      ],
      "text/plain": [
       "           CAMIS                            DBA       BORO BUILDING  \\\n",
       "26628   50065304            CHURCH AVENUE PIZZA   BROOKLYN    1916B   \n",
       "126947  50059949      FLIK @ HOLY NAME PROVINCE  MANHATTAN      129   \n",
       "184576  41648221              YEMEN ALSAED CAFE   BROOKLYN     7130   \n",
       "211791  41648221              YEMEN ALSAED CAFE   BROOKLYN     7130   \n",
       "364831  50051917  KENNEDY FRIED CHICKEN & PIZZA      BRONX     2558   \n",
       "\n",
       "                 STREET ZIPCODE       PHONE CUISINE DESCRIPTION  \\\n",
       "26628        CHURCH AVE   11226  7184626060               Pizza   \n",
       "126947        W 31ST ST   10001  6464730265               Other   \n",
       "184576         5 AVENUE   11209  7187453000      Middle Eastern   \n",
       "211791         5 AVENUE   11209  7187453000      Middle Eastern   \n",
       "364831  GRAND CONCOURSE   10458  7187330300             Chicken   \n",
       "\n",
       "       INSPECTION DATE  SCORE           GRADE GRADE DATE RECORD DATE  \n",
       "26628       2017-12-11    NaN  Not Yet Graded        NaT  2018-02-02  \n",
       "126947      2017-03-06    NaN  Not Yet Graded        NaT  2018-02-02  \n",
       "184576      2016-03-09    NaN               A 2016-03-09  2018-02-02  \n",
       "211791      2016-03-09    NaN               A 2016-03-09  2018-02-02  \n",
       "364831      1900-01-01    NaN               A        NaT  2018-02-02  "
      ]
     },
     "execution_count": 33,
     "metadata": {},
     "output_type": "execute_result"
    }
   ],
   "source": [
    "tmp[tmp['GRADE'].notnull()]"
   ]
  },
  {
   "cell_type": "code",
   "execution_count": 6,
   "metadata": {
    "collapsed": true
   },
   "outputs": [],
   "source": [
    "restaurant['target'] = restaurant['SCORE'].map(lambda x: 1 if x > 13 else 0)"
   ]
  },
  {
   "cell_type": "code",
   "execution_count": 7,
   "metadata": {
    "collapsed": true
   },
   "outputs": [],
   "source": [
    "data = restaurant[restaurant['SCORE'].notnull()]"
   ]
  },
  {
   "cell_type": "code",
   "execution_count": 8,
   "metadata": {
    "collapsed": true
   },
   "outputs": [],
   "source": [
    "datag = data.groupby(['CAMIS'], as_index = False)[['target']].max()"
   ]
  },
  {
   "cell_type": "code",
   "execution_count": 9,
   "metadata": {
    "collapsed": true
   },
   "outputs": [],
   "source": [
    "data_dup = data.drop(['target', 'INSPECTION DATE', 'SCORE', 'GRADE', 'GRADE DATE', 'RECORD DATE'], axis=1)"
   ]
  },
  {
   "cell_type": "code",
   "execution_count": 10,
   "metadata": {
    "collapsed": true
   },
   "outputs": [],
   "source": [
    "data_dup2 = data_dup.drop_duplicates(['CAMIS']).reset_index(drop=True)"
   ]
  },
  {
   "cell_type": "code",
   "execution_count": 11,
   "metadata": {
    "collapsed": true
   },
   "outputs": [],
   "source": [
    "data_merge = data_dup2.merge(datag, on='CAMIS')"
   ]
  },
  {
   "cell_type": "code",
   "execution_count": 12,
   "metadata": {},
   "outputs": [
    {
     "data": {
      "text/html": [
       "<div>\n",
       "<style scoped>\n",
       "    .dataframe tbody tr th:only-of-type {\n",
       "        vertical-align: middle;\n",
       "    }\n",
       "\n",
       "    .dataframe tbody tr th {\n",
       "        vertical-align: top;\n",
       "    }\n",
       "\n",
       "    .dataframe thead th {\n",
       "        text-align: right;\n",
       "    }\n",
       "</style>\n",
       "<table border=\"1\" class=\"dataframe\">\n",
       "  <thead>\n",
       "    <tr style=\"text-align: right;\">\n",
       "      <th></th>\n",
       "      <th>CAMIS</th>\n",
       "      <th>DBA</th>\n",
       "      <th>BORO</th>\n",
       "      <th>BUILDING</th>\n",
       "      <th>STREET</th>\n",
       "      <th>ZIPCODE</th>\n",
       "      <th>PHONE</th>\n",
       "      <th>CUISINE DESCRIPTION</th>\n",
       "    </tr>\n",
       "    <tr>\n",
       "      <th>target</th>\n",
       "      <th></th>\n",
       "      <th></th>\n",
       "      <th></th>\n",
       "      <th></th>\n",
       "      <th></th>\n",
       "      <th></th>\n",
       "      <th></th>\n",
       "      <th></th>\n",
       "    </tr>\n",
       "  </thead>\n",
       "  <tbody>\n",
       "    <tr>\n",
       "      <th>0</th>\n",
       "      <td>7911</td>\n",
       "      <td>7911</td>\n",
       "      <td>7911</td>\n",
       "      <td>7903</td>\n",
       "      <td>7911</td>\n",
       "      <td>7911</td>\n",
       "      <td>7911</td>\n",
       "      <td>7911</td>\n",
       "    </tr>\n",
       "    <tr>\n",
       "      <th>1</th>\n",
       "      <td>17653</td>\n",
       "      <td>17653</td>\n",
       "      <td>17653</td>\n",
       "      <td>17648</td>\n",
       "      <td>17653</td>\n",
       "      <td>17653</td>\n",
       "      <td>17652</td>\n",
       "      <td>17653</td>\n",
       "    </tr>\n",
       "  </tbody>\n",
       "</table>\n",
       "</div>"
      ],
      "text/plain": [
       "        CAMIS    DBA   BORO  BUILDING  STREET  ZIPCODE  PHONE  \\\n",
       "target                                                          \n",
       "0        7911   7911   7911      7903    7911     7911   7911   \n",
       "1       17653  17653  17653     17648   17653    17653  17652   \n",
       "\n",
       "        CUISINE DESCRIPTION  \n",
       "target                       \n",
       "0                      7911  \n",
       "1                     17653  "
      ]
     },
     "execution_count": 12,
     "metadata": {},
     "output_type": "execute_result"
    }
   ],
   "source": [
    "data_merge.groupby(['target']).count()"
   ]
  },
  {
   "cell_type": "code",
   "execution_count": 36,
   "metadata": {
    "collapsed": true
   },
   "outputs": [],
   "source": [
    "data_lat_lng = pd.read_csv(\"data_lat_lng.csv\", dtype = {'ZIPCODE':str, 'PHONE':str})"
   ]
  },
  {
   "cell_type": "code",
   "execution_count": 46,
   "metadata": {},
   "outputs": [],
   "source": [
    "data_lat_lng = data_lat_lng.dropna(axis=0, subset=['latitude', 'longitude'])"
   ]
  },
  {
   "cell_type": "code",
   "execution_count": 69,
   "metadata": {},
   "outputs": [
    {
     "data": {
      "image/png": "[encoded data removed]",
      "text/plain": [
       "<matplotlib.figure.Figure at 0x11935ff28>"
      ]
     },
     "metadata": {},
     "output_type": "display_data"
    }
   ],
   "source": [
    "#generate binary class label:either A(0) or not(rare, 1)\n",
    "y_tables = data_lat_lng['target'].value_counts()\n",
    "y_pos = np.arange(len(y_tables.values))\n",
    "plt.bar(y_pos, y_tables.values, align='center', alpha=0.5)\n",
    "plt.xticks(y_pos, list( y_tables.index))\n",
    "plt.ylabel('Frequency')\n",
    "plt.title('Target')\n",
    "plt.show()"
   ]
  },
  {
   "cell_type": "code",
   "execution_count": null,
   "metadata": {
    "collapsed": true
   },
   "outputs": [],
   "source": []
  },
  {
   "cell_type": "code",
   "execution_count": null,
   "metadata": {
    "collapsed": true
   },
   "outputs": [],
   "source": []
  },
  {
   "cell_type": "code",
   "execution_count": 47,
   "metadata": {},
   "outputs": [],
   "source": [
    "boro = pd.get_dummies(data_lat_lng['BORO'], drop_first = True)\n",
    "\n",
    "zipcode = pd.get_dummies(data_lat_lng['ZIPCODE'], drop_first = True)\n",
    "\n",
    "cusine = pd.get_dummies(data_lat_lng['CUISINE DESCRIPTION'], drop_first = True)\n",
    "\n",
    "model_data = pd.concat([data_lat_lng['target'], data_lat_lng['latitude'], data_lat_lng['longitude'], boro, zipcode, cusine], axis = 1)\n",
    "\n",
    "\n",
    "#partition data 70% for modeling, 30% for holdout\n",
    "Xtrain, Xhold, ytrain, yhold = train_test_split(model_data.drop(['target'], axis = 1), model_data['target'], test_size = 0.3, random_state = 42)"
   ]
  },
  {
   "cell_type": "code",
   "execution_count": 49,
   "metadata": {},
   "outputs": [
    {
     "name": "stdout",
     "output_type": "stream",
     "text": [
      "{'C': 1, 'class_weight': {1: 2}}\n",
      "f1 score:  0.813605905302\n"
     ]
    }
   ],
   "source": [
    "#using weighted regularized logistic regression\n",
    "lr_estimator = LogisticRegression()\n",
    "param_test = {'C':[0.01, 1, 100, 10000, 10000000], 'class_weight':[{1: 6}, {1: 5}, {1: 4}, {1: 3}, {1: 2}, {1: 1}]}\n",
    "glr = GridSearchCV(lr_estimator, param_grid = param_test, cv = 5, scoring = 'f1')\n",
    "glr = glr.fit(Xtrain, ytrain)\n",
    "blr = glr.best_estimator_.fit(Xtrain,ytrain)\n",
    "\n",
    "print (glr.best_params_)\n",
    "lr_score = glr.best_score_\n",
    "print ('f1 score: ', lr_score)\n",
    "\n",
    "#joblib.dump(blr, 'ori_lr.pkl')"
   ]
  },
  {
   "cell_type": "code",
   "execution_count": 53,
   "metadata": {},
   "outputs": [
    {
     "name": "stdout",
     "output_type": "stream",
     "text": [
      "{'C': 0.1, 'class_weight': {1: 5}}\n",
      "roc_auc score:  0.630607046185\n"
     ]
    }
   ],
   "source": [
    "#using weighted regularized logistic regression\n",
    "lr_estimator = LogisticRegression()\n",
    "param_test = {'C':[0.1, 1, 100, 10000, 10000000], 'class_weight':[{1: 6}, {1: 5}, {1: 4}, {1: 3}, {1: 2}, {1: 1}]}\n",
    "glr = GridSearchCV(lr_estimator, param_grid = param_test, cv = 5, scoring = 'roc_auc')\n",
    "glr = glr.fit(Xtrain, ytrain)\n",
    "blr = glr.best_estimator_.fit(Xtrain,ytrain)\n",
    "\n",
    "print (glr.best_params_)\n",
    "lr_score = glr.best_score_\n",
    "print ('roc_auc score: ', lr_score)\n",
    "\n",
    "#joblib.dump(blr, 'ori_lr.pkl')"
   ]
  },
  {
   "cell_type": "code",
   "execution_count": 55,
   "metadata": {},
   "outputs": [
    {
     "name": "stdout",
     "output_type": "stream",
     "text": [
      "{'C': 0.03, 'class_weight': {1: 5}}\n",
      "roc_auc score:  0.630697511972\n"
     ]
    }
   ],
   "source": [
    "#using weighted regularized logistic regression\n",
    "lr_estimator = LogisticRegression()\n",
    "param_test = {'C':[0.03, 0.1, 0.3], 'class_weight':[{1: 5.5}, {1: 5}, {1: 4.5}]}\n",
    "glr = GridSearchCV(lr_estimator, param_grid = param_test, cv = 5, scoring = 'roc_auc')\n",
    "glr = glr.fit(Xtrain, ytrain)\n",
    "blr = glr.best_estimator_.fit(Xtrain,ytrain)\n",
    "\n",
    "print (glr.best_params_)\n",
    "lr_score = glr.best_score_\n",
    "print ('roc_auc score: ', lr_score)\n",
    "\n",
    "#joblib.dump(blr, 'ori_lr.pkl')"
   ]
  },
  {
   "cell_type": "code",
   "execution_count": 59,
   "metadata": {},
   "outputs": [
    {
     "name": "stdout",
     "output_type": "stream",
     "text": [
      "{'C': 0.03, 'class_weight': {1: 5}}\n",
      "roc_auc score:  0.630697511972\n"
     ]
    },
    {
     "data": {
      "text/plain": [
       "['ori_lr.pkl']"
      ]
     },
     "execution_count": 59,
     "metadata": {},
     "output_type": "execute_result"
    }
   ],
   "source": [
    "#using weighted regularized logistic regression\n",
    "lr_estimator = LogisticRegression()\n",
    "param_test = {'C':[0.003, 0.01, 0.03], 'class_weight':[{1: 5.5}, {1: 5}, {1: 4.5}]}\n",
    "glr = GridSearchCV(lr_estimator, param_grid = param_test, cv = 5, scoring = 'roc_auc')\n",
    "glr = glr.fit(Xtrain, ytrain)\n",
    "blr = glr.best_estimator_.fit(Xtrain,ytrain)\n",
    "\n",
    "print (glr.best_params_)\n",
    "lr_score = glr.best_score_\n",
    "print ('roc_auc score: ', lr_score)\n",
    "\n",
    "joblib.dump(blr, 'ori_lr.pkl')"
   ]
  },
  {
   "cell_type": "code",
   "execution_count": 61,
   "metadata": {},
   "outputs": [
    {
     "name": "stdout",
     "output_type": "stream",
     "text": [
      "{'C': 0.03, 'class_weight': {1: 5}}\n",
      "f1:  0.811425346742\n"
     ]
    },
    {
     "data": {
      "text/plain": [
       "['ori_lr.pkl']"
      ]
     },
     "execution_count": 61,
     "metadata": {},
     "output_type": "execute_result"
    }
   ],
   "source": [
    "#using weighted regularized logistic regression\n",
    "lr_estimator = LogisticRegression()\n",
    "param_test = {'C':[0.03], 'class_weight':[{1: 5}]}\n",
    "glr = GridSearchCV(lr_estimator, param_grid = param_test, cv = 5, scoring = 'f1')\n",
    "glr = glr.fit(Xtrain, ytrain)\n",
    "blr = glr.best_estimator_.fit(Xtrain,ytrain)\n",
    "\n",
    "print (glr.best_params_)\n",
    "lr_score = glr.best_score_\n",
    "print ('f1: ', lr_score)\n",
    "\n",
    "joblib.dump(blr, 'ori_lr.pkl')"
   ]
  },
  {
   "cell_type": "code",
   "execution_count": null,
   "metadata": {
    "collapsed": true
   },
   "outputs": [],
   "source": []
  },
  {
   "cell_type": "code",
   "execution_count": 50,
   "metadata": {},
   "outputs": [
    {
     "name": "stdout",
     "output_type": "stream",
     "text": [
      "{'max_features': 0.3, 'min_samples_leaf': 10}\n",
      "roc_auc score:  0.633025315983\n"
     ]
    }
   ],
   "source": [
    "#using weighted random forest\n",
    "rf_estimator = RandomForestClassifier(max_leaf_nodes = 200, min_samples_leaf = 10, min_samples_split = 2, n_estimators = 500, random_state = 1234, n_jobs = -1)\n",
    "param_test = {'max_features': [0.2, 0.3, 0.4], 'min_samples_leaf': [10, 15, 20]}\n",
    "grf = GridSearchCV(rf_estimator, param_grid = param_test, cv = 5, scoring = 'roc_auc')\n",
    "grf = grf.fit(Xtrain, ytrain)\n",
    "brf = grf.best_estimator_.fit(Xtrain,ytrain)\n",
    "\n",
    "print (grf.best_params_)\n",
    "rf_score = grf.best_score_\n",
    "print ('roc_auc score: ', rf_score)\n",
    "\n",
    "#joblib.dump(brf, 'ori_rf.pkl')"
   ]
  },
  {
   "cell_type": "code",
   "execution_count": 57,
   "metadata": {},
   "outputs": [
    {
     "name": "stdout",
     "output_type": "stream",
     "text": [
      "{'n_estimators': 300, 'max_features': 0.3}\n",
      "roc_auc score:  0.632996698351\n"
     ]
    }
   ],
   "source": [
    "#using weighted random forest\n",
    "rf_estimator = RandomForestClassifier(max_leaf_nodes = 200, min_samples_leaf = 10, min_samples_split = 2, n_estimators = 500, random_state = 1234, n_jobs = -1)\n",
    "param_test = {'max_features': [0.2, 0.3, 0.4], 'n_estimators': [100, 200, 300]}\n",
    "grf = GridSearchCV(rf_estimator, param_grid = param_test, cv = 5, scoring = 'roc_auc')\n",
    "grf = grf.fit(Xtrain, ytrain)\n",
    "brf = grf.best_estimator_.fit(Xtrain,ytrain)\n",
    "\n",
    "print (grf.best_params_)\n",
    "rf_score = grf.best_score_\n",
    "print ('roc_auc score: ', rf_score)\n",
    "\n",
    "#joblib.dump(brf, 'ori_rf.pkl')"
   ]
  },
  {
   "cell_type": "code",
   "execution_count": 58,
   "metadata": {},
   "outputs": [
    {
     "name": "stdout",
     "output_type": "stream",
     "text": [
      "{'n_estimators': 500, 'min_samples_leaf': 10}\n",
      "roc_auc score:  0.633025315983\n"
     ]
    }
   ],
   "source": [
    "#using weighted random forest\n",
    "rf_estimator = RandomForestClassifier(max_leaf_nodes = 200, min_samples_leaf = 10, min_samples_split = 2, n_estimators = 500, max_features = 0.3, random_state = 1234, n_jobs = -1)\n",
    "param_test = {'min_samples_leaf': [5, 10, 15], 'n_estimators': [300, 400, 500]}\n",
    "grf = GridSearchCV(rf_estimator, param_grid = param_test, cv = 5, scoring = 'roc_auc')\n",
    "grf = grf.fit(Xtrain, ytrain)\n",
    "brf = grf.best_estimator_.fit(Xtrain,ytrain)\n",
    "\n",
    "print (grf.best_params_)\n",
    "rf_score = grf.best_score_\n",
    "print ('roc_auc score: ', rf_score)\n",
    "\n",
    "#joblib.dump(brf, 'ori_rf.pkl')"
   ]
  },
  {
   "cell_type": "code",
   "execution_count": 64,
   "metadata": {},
   "outputs": [
    {
     "name": "stdout",
     "output_type": "stream",
     "text": [
      "{'n_estimators': 300, 'min_samples_leaf': 10}\n",
      "roc_auc score:  0.632996698351\n"
     ]
    },
    {
     "data": {
      "text/plain": [
       "['ori_rf.pkl']"
      ]
     },
     "execution_count": 64,
     "metadata": {},
     "output_type": "execute_result"
    }
   ],
   "source": [
    "#using weighted random forest\n",
    "rf_estimator = RandomForestClassifier(max_leaf_nodes = 200, min_samples_leaf = 10, min_samples_split = 2, n_estimators = 500, max_features = 0.3, random_state = 1234, n_jobs = -1)\n",
    "param_test = {'min_samples_leaf': [10], 'n_estimators': [300]}\n",
    "grf = GridSearchCV(rf_estimator, param_grid = param_test, cv = 5, scoring = 'roc_auc')\n",
    "grf = grf.fit(Xtrain, ytrain)\n",
    "brf = grf.best_estimator_.fit(Xtrain,ytrain)\n",
    "\n",
    "print (grf.best_params_)\n",
    "rf_score = grf.best_score_\n",
    "print ('roc_auc score: ', rf_score)\n",
    "\n",
    "joblib.dump(brf, 'ori_rf.pkl')"
   ]
  },
  {
   "cell_type": "code",
   "execution_count": null,
   "metadata": {
    "collapsed": true
   },
   "outputs": [],
   "source": []
  },
  {
   "cell_type": "code",
   "execution_count": 70,
   "metadata": {},
   "outputs": [
    {
     "name": "stdout",
     "output_type": "stream",
     "text": [
      "Feature ranking:\n",
      "1 latitude\n",
      "2 longitude\n",
      "3 Other\n",
      "4 CafÃ©/Coffee/Tea\n",
      "5 Sandwiches\n",
      "6 Donuts\n",
      "7 American\n",
      "8 10121\n",
      "9 Juice, Smoothies, Fruit Salads\n",
      "10 Ice Cream, Gelato, Yogurt, Ices\n",
      "11 11368\n",
      "12 Sandwiches/Salads/Mixed Buffet\n",
      "13 Latin (Cuban, Dominican, Puerto Rican, South & Central American)\n",
      "14 BROOKLYN\n",
      "15 Hamburgers\n",
      "16 MANHATTAN\n",
      "17 Chinese\n",
      "18 QUEENS\n",
      "19 11217\n",
      "20 Salads\n"
     ]
    },
    {
     "data": {
      "image/png": "[encoded data removed]",
      "text/plain": [
       "<matplotlib.figure.Figure at 0x116d51ac8>"
      ]
     },
     "metadata": {},
     "output_type": "display_data"
    }
   ],
   "source": [
    "def plotFeatureImportance(tree_obj, n, features):\n",
    "    importances = tree_obj.feature_importances_\n",
    "    std = np.std([tree.feature_importances_ for tree in tree_obj.estimators_], axis=0)\n",
    "    indices = np.argsort(importances)[::-1]\n",
    "\n",
    "    # Print the feature ranking\n",
    "    print(\"Feature ranking:\")\n",
    "\n",
    "    for f in range(n):\n",
    "        print((f + 1), features[indices[f]])\n",
    "\n",
    "    # Plot the feature importances of the forest\n",
    "    plt.figure()\n",
    "    plt.title(\"Feature importances\")\n",
    "    plt.bar(range(n), importances[indices[:n]], color=\"r\", yerr=std[indices[:n]], align=\"center\")\n",
    "    plt.xticks(range(n), features[indices[:n]], rotation=90)\n",
    "    plt.xlim([-1,n])\n",
    "    plt.show()\n",
    "\n",
    "plotFeatureImportance(brf, 20, np.array(Xtrain.columns.values))"
   ]
  },
  {
   "cell_type": "code",
   "execution_count": 75,
   "metadata": {},
   "outputs": [
    {
     "data": {
      "image/png": "[encoded data removed]",
      "text/plain": [
       "<matplotlib.figure.Figure at 0x120b97d30>"
      ]
     },
     "metadata": {},
     "output_type": "display_data"
    },
    {
     "data": {
      "image/png": "[encoded data removed]",
      "text/plain": [
       "<matplotlib.figure.Figure at 0x11955c8d0>"
      ]
     },
     "metadata": {},
     "output_type": "display_data"
    },
    {
     "data": {
      "image/png": "[encoded data removed]",
      "text/plain": [
       "<matplotlib.figure.Figure at 0x11a5c01d0>"
      ]
     },
     "metadata": {},
     "output_type": "display_data"
    }
   ],
   "source": [
    "#model performance util functions\n",
    "def plotLabel(ax):\n",
    "        ax.set_xlim([0.0, 1.0])\n",
    "        ax.set_ylim([0.0, 1.05])\n",
    "        ax.set_xlabel('False Positive Rate')\n",
    "        ax.set_ylabel('True Positive Rate')\n",
    "        ax.set_title('Receiver operating characteristic')\n",
    "        ax.legend(loc=\"lower right\")\n",
    "\n",
    "\n",
    "\n",
    "def make_com_roc_curve(g_ypred_pro, yh, g_model):        \n",
    "        fpr = []\n",
    "        tpr = []\n",
    "        roc_auc = []\n",
    "        n = len(g_ypred_pro)\n",
    "        for i in range(n):\n",
    "            ypred_pro1 = g_ypred_pro[i]\n",
    "            fpr1, tpr1, _ = roc_curve(yh, ypred_pro1[:, 1])\n",
    "            roc_auc1 = auc(fpr1, tpr1)\n",
    "            fpr.append(fpr1)\n",
    "            tpr.append(tpr1)\n",
    "            roc_auc.append(roc_auc1)\n",
    "    \n",
    "        #plt.figure()\n",
    "        fig, ax = plt.subplots(figsize=(6,6))\n",
    "        lw = 2\n",
    "        color = ['darkorange', 'green']\n",
    "        for i in range(n):\n",
    "            \n",
    "            ax.plot(fpr[i], tpr[i], color=color[i], lw=lw, label= g_model[i] + ' ROC curve (area = %0.2f)' % roc_auc[i])\n",
    "        \n",
    "        ax.plot([0, 1], [0, 1], color='navy', lw=lw, linestyle='--')\n",
    "        plotLabel(ax)\n",
    "    \n",
    "        plt.show()\n",
    "\n",
    "def plotcm(fig, ax, cm, classes, model = '', normalize = False, cmap=plt.cm.Blues):\n",
    "        if normalize:\n",
    "            cm = cm.astype('float') / cm.sum(axis=1)[:, np.newaxis]\n",
    "            title = model + \" Normalized Confusion Matrix\"\n",
    "        else:\n",
    "            title = model + ' Confusion Matrix'\n",
    "\n",
    "        img = ax.imshow(cm, interpolation='nearest', cmap=cmap)\n",
    "        ax.set_title(title)\n",
    "        fig.colorbar(img, ax=ax)\n",
    "        #tick_marks = np.arange(len(classes))\n",
    "        ax.set_xticks(classes) #, rotation=45)\n",
    "        ax.set_yticks(classes)\n",
    "        #ax.set_xticks(tick_marks, classes)\n",
    "\n",
    "        fmt = '.2f' if normalize else 'd'\n",
    "        thresh = cm.max() / 2.\n",
    "        for i, j in itertools.product(range(cm.shape[0]), range(cm.shape[1])):\n",
    "            ax.text(j, i, format(cm[i, j], fmt),\n",
    "            horizontalalignment=\"center\",\n",
    "            #color=\"red\" if cm[i, j] > thresh else \"black\")\n",
    "            color=\"red\")\n",
    "        \n",
    "        ax.set_ylabel('True label')\n",
    "        ax.set_xlabel('Predicted label')\n",
    "        \n",
    "    \n",
    "def make_confusion_matrix(ypred, yh, model = \"\"):\n",
    "        cnf_matrix = confusion_matrix(yh, ypred)\n",
    "        \n",
    "        np.set_printoptions(precision=2)\n",
    "        classes = list(np.unique(yh))\n",
    "        \n",
    "        \n",
    "        #plt.figure()\n",
    "        fig, (ax1, ax2)= plt.subplots(ncols=2, figsize=(12, 6))\n",
    "        plotcm(fig, ax1, cnf_matrix, classes, model, False)\n",
    "        #plt.figure()\n",
    "        plotcm(fig, ax2, cnf_matrix, classes, model, True)\n",
    "        \n",
    "        \n",
    "        plt.tight_layout()\n",
    "        plt.show()\n",
    "\n",
    "ypred_pro1 = blr.predict_proba(Xhold)\n",
    "ypred_pro2 = brf.predict_proba(Xhold)\n",
    "ypred1 = blr.predict(Xhold)\n",
    "ypred2 = brf.predict(Xhold)\n",
    "model1 = 'Logistic Regression'\n",
    "model2 = 'Random Forest'\n",
    "make_com_roc_curve([ypred_pro1, ypred_pro2], yhold, [model1, model2]) \n",
    "make_confusion_matrix(ypred1, yhold, model = model1)\n",
    "make_confusion_matrix(ypred2, yhold, model = model2)"
   ]
  },
  {
   "cell_type": "code",
   "execution_count": null,
   "metadata": {
    "collapsed": true
   },
   "outputs": [],
   "source": []
  },
  {
   "cell_type": "code",
   "execution_count": null,
   "metadata": {
    "collapsed": true
   },
   "outputs": [],
   "source": []
  }
 ],
 "metadata": {
  "anaconda-cloud": {},
  "kernelspec": {
   "display_name": "Python [conda root]",
   "language": "python",
   "name": "conda-root-py"
  },
  "language_info": {
   "codemirror_mode": {
    "name": "ipython",
    "version": 3
   },
   "file_extension": ".py",
   "mimetype": "text/x-python",
   "name": "python",
   "nbconvert_exporter": "python",
   "pygments_lexer": "ipython3",
   "version": "3.5.3"
  }
 },
 "nbformat": 4,
 "nbformat_minor": 2
}
